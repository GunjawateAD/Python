{
 "cells": [
  {
   "cell_type": "markdown",
   "metadata": {},
   "source": [
    "# Tuple\n",
    "\n",
    "### How tp create Tuple"
   ]
  },
  {
   "cell_type": "code",
   "execution_count": 1,
   "metadata": {},
   "outputs": [
    {
     "name": "stdout",
     "output_type": "stream",
     "text": [
      "(1, 2, 3, 'Hii', 6j, True)\n",
      "6\n"
     ]
    }
   ],
   "source": [
    "#How to create tuple\n",
    "t1=(1,2,3,\"Hii\",6j,True)\n",
    "print(t1)\n",
    "print(len(t1))"
   ]
  },
  {
   "cell_type": "code",
   "execution_count": 2,
   "metadata": {},
   "outputs": [
    {
     "name": "stdout",
     "output_type": "stream",
     "text": [
      "<class 'tuple'>\n"
     ]
    }
   ],
   "source": [
    "#Chek the type of tupleprint\n",
    "print(type(t1))\n"
   ]
  },
  {
   "cell_type": "code",
   "execution_count": 3,
   "metadata": {},
   "outputs": [
    {
     "name": "stdout",
     "output_type": "stream",
     "text": [
      "(1, 2, 3, 'Hii', 6j)\n",
      "(1, 2, 3, 'Hii', 6j)\n"
     ]
    }
   ],
   "source": [
    "#print all elements of tuple\n",
    "print(t1[0:5])\n",
    "print(t1[:5])\n"
   ]
  },
  {
   "cell_type": "code",
   "execution_count": 8,
   "metadata": {},
   "outputs": [
    {
     "name": "stdout",
     "output_type": "stream",
     "text": [
      "(3, 'Hii')\n",
      "(3, 'Hii')\n"
     ]
    }
   ],
   "source": [
    "# Make a slice  of t1 with 2 and Hii and make the new tuple\n",
    "print(t1[-4:-2])\n",
    "t2=t1[-4:-2]\n",
    "print(t2)"
   ]
  },
  {
   "cell_type": "markdown",
   "metadata": {},
   "source": [
    "# Change the tuple items\n",
    "- once tuple is created elements are not modified but there is alternative to modify elements of tuple\n",
    "- Convert Tuple to list,modify list and reconvert that list to tuple\n"
   ]
  },
  {
   "cell_type": "code",
   "execution_count": 12,
   "metadata": {},
   "outputs": [
    {
     "name": "stdout",
     "output_type": "stream",
     "text": [
      "(3, 'Hii')\n",
      "<class 'tuple'>\n"
     ]
    }
   ],
   "source": [
    "# Print tuple and its type\n",
    "print(t2)\n",
    "print(type(t2))\n"
   ]
  },
  {
   "cell_type": "code",
   "execution_count": 14,
   "metadata": {},
   "outputs": [
    {
     "name": "stdout",
     "output_type": "stream",
     "text": [
      "[3, 'Hii']\n",
      "<class 'list'>\n"
     ]
    }
   ],
   "source": [
    "# Convert tuple to list using Type casting\n",
    "l1=list(t2)\n",
    "print(l1)\n",
    "print(type(l1))\n"
   ]
  },
  {
   "cell_type": "code",
   "execution_count": 15,
   "metadata": {},
   "outputs": [
    {
     "name": "stdout",
     "output_type": "stream",
     "text": [
      "[3, 'Hello']\n"
     ]
    }
   ],
   "source": [
    "# Change word Hii by Hello\n",
    "l1[-1]=\"Hello\"\n",
    "print(l1)"
   ]
  },
  {
   "cell_type": "code",
   "execution_count": 16,
   "metadata": {},
   "outputs": [
    {
     "name": "stdout",
     "output_type": "stream",
     "text": [
      "(3, 'Hello')\n",
      "<class 'tuple'>\n"
     ]
    }
   ],
   "source": [
    "# Again convert list to tuple\n",
    "t2=tuple(l1)\n",
    "print(t2)\n",
    "print(type(t2))\n",
    "\n"
   ]
  },
  {
   "cell_type": "code",
   "execution_count": 17,
   "metadata": {},
   "outputs": [
    {
     "name": "stdout",
     "output_type": "stream",
     "text": [
      "1 2 3 Hii 6j True "
     ]
    }
   ],
   "source": [
    "# Print element using loops\n",
    "for i in t1:\n",
    "    print(i,end=\" \")"
   ]
  },
  {
   "cell_type": "code",
   "execution_count": 18,
   "metadata": {},
   "outputs": [
    {
     "name": "stdout",
     "output_type": "stream",
     "text": [
      "True\n",
      "False\n"
     ]
    }
   ],
   "source": [
    "# To check 6j is present in t1 or not\n",
    "print(6j in t1)\n",
    "print(5j in t1)"
   ]
  },
  {
   "cell_type": "code",
   "execution_count": 19,
   "metadata": {},
   "outputs": [
    {
     "ename": "TypeError",
     "evalue": "'tuple' object does not support item assignment",
     "output_type": "error",
     "traceback": [
      "\u001b[1;31m---------------------------------------------------------------------------\u001b[0m",
      "\u001b[1;31mTypeError\u001b[0m                                 Traceback (most recent call last)",
      "\u001b[1;32m<ipython-input-19-88c130b1e331>\u001b[0m in \u001b[0;36m<module>\u001b[1;34m\u001b[0m\n\u001b[0;32m      1\u001b[0m \u001b[1;31m# Add new tuple fails,verify it\u001b[0m\u001b[1;33m\u001b[0m\u001b[1;33m\u001b[0m\u001b[1;33m\u001b[0m\u001b[0m\n\u001b[1;32m----> 2\u001b[1;33m \u001b[0mt1\u001b[0m\u001b[1;33m[\u001b[0m\u001b[1;36m6\u001b[0m\u001b[1;33m]\u001b[0m\u001b[1;33m=\u001b[0m\u001b[1;34m\"avya\"\u001b[0m\u001b[1;33m\u001b[0m\u001b[1;33m\u001b[0m\u001b[0m\n\u001b[0m",
      "\u001b[1;31mTypeError\u001b[0m: 'tuple' object does not support item assignment"
     ]
    }
   ],
   "source": [
    "# Add new tuple fails,verify it\n",
    "t1[6]=\"avya\""
   ]
  },
  {
   "cell_type": "code",
   "execution_count": 22,
   "metadata": {},
   "outputs": [
    {
     "name": "stdout",
     "output_type": "stream",
     "text": [
      "1\n",
      "0\n"
     ]
    }
   ],
   "source": [
    "# Count no of elements in tuple\n",
    "print(t1.count(6j))\n",
    "print(t1.count(5j))"
   ]
  },
  {
   "cell_type": "code",
   "execution_count": 24,
   "metadata": {},
   "outputs": [
    {
     "name": "stdout",
     "output_type": "stream",
     "text": [
      "('avya',)\n",
      "<class 'tuple'>\n"
     ]
    }
   ],
   "source": [
    "# Create a tuple with only one element,print tuple and type\n",
    "t=(\"avya\",)\n",
    "print(t)\n",
    "print(type(t))"
   ]
  },
  {
   "cell_type": "code",
   "execution_count": 33,
   "metadata": {},
   "outputs": [
    {
     "name": "stdout",
     "output_type": "stream",
     "text": [
      "('avya',)\n"
     ]
    }
   ],
   "source": [
    "# Remove elements from tuple \n",
    "# You can go for converting tuple to list for deletion\n",
    "print(t)"
   ]
  },
  {
   "cell_type": "code",
   "execution_count": 34,
   "metadata": {},
   "outputs": [],
   "source": [
    "# Direct deletion of elements not possible\n",
    "del t"
   ]
  },
  {
   "cell_type": "code",
   "execution_count": 35,
   "metadata": {},
   "outputs": [
    {
     "name": "stdout",
     "output_type": "stream",
     "text": [
      "(4, 5, 6)\n",
      "('a', 'b', 'c')\n",
      "(4, 5, 6, 'a', 'b', 'c')\n",
      "<class 'tuple'>\n"
     ]
    }
   ],
   "source": [
    "# How to join two tuples\n",
    "t4=(4,5,6)\n",
    "print(t4)\n",
    "t5=(\"a\",\"b\",\"c\")\n",
    "print(t5)\n",
    "t6=t4+t5\n",
    "print(t6)\n",
    "print(type(t6))\n"
   ]
  },
  {
   "cell_type": "markdown",
   "metadata": {},
   "source": [
    "### Tuples canbe joined together but tuple and list can not be concanited"
   ]
  },
  {
   "cell_type": "code",
   "execution_count": 36,
   "metadata": {},
   "outputs": [
    {
     "name": "stdout",
     "output_type": "stream",
     "text": [
      "(12, 4.5)\n",
      "<class 'tuple'>\n"
     ]
    }
   ],
   "source": [
    "# How to create tuple with tuple constructor\n",
    "tuple1=tuple((12,4.5))\n",
    "print(tuple1)\n",
    "print(type(tuple1))\n"
   ]
  },
  {
   "cell_type": "markdown",
   "metadata": {},
   "source": [
    "#### Tuple methods\n",
    "-There are only two methods available for tuple\n",
    "-1.Count\n",
    "-2.index\n"
   ]
  },
  {
   "cell_type": "code",
   "execution_count": 39,
   "metadata": {},
   "outputs": [],
   "source": [
    "t1=(2,3,55,66,2,5,2.3)\n"
   ]
  },
  {
   "cell_type": "code",
   "execution_count": 41,
   "metadata": {},
   "outputs": [
    {
     "name": "stdout",
     "output_type": "stream",
     "text": [
      "count of 2 is: 2\n",
      "count of 25 is: 0\n"
     ]
    }
   ],
   "source": [
    "# Count method\n",
    "print(\"count of 2 is:\",t1.count(2))\n",
    "print(\"count of 25 is:\",t1.count(25))"
   ]
  },
  {
   "cell_type": "code",
   "execution_count": 43,
   "metadata": {},
   "outputs": [
    {
     "name": "stdout",
     "output_type": "stream",
     "text": [
      "index of 2 is: 0\n",
      "count of 55 is: 2\n"
     ]
    }
   ],
   "source": [
    "# Index Method\n",
    "print(\"index of 2 is:\",t1.index(2))\n",
    "print(\"count of 55 is:\",t1.index(55))"
   ]
  },
  {
   "cell_type": "code",
   "execution_count": 44,
   "metadata": {},
   "outputs": [],
   "source": [
    "# Hoew to delete entire tuple\n",
    "del t1\n"
   ]
  },
  {
   "cell_type": "code",
   "execution_count": 45,
   "metadata": {},
   "outputs": [
    {
     "ename": "NameError",
     "evalue": "name 't1' is not defined",
     "output_type": "error",
     "traceback": [
      "\u001b[1;31m---------------------------------------------------------------------------\u001b[0m",
      "\u001b[1;31mNameError\u001b[0m                                 Traceback (most recent call last)",
      "\u001b[1;32m<ipython-input-45-04f730070f35>\u001b[0m in \u001b[0;36m<module>\u001b[1;34m\u001b[0m\n\u001b[1;32m----> 1\u001b[1;33m \u001b[0mprint\u001b[0m\u001b[1;33m(\u001b[0m\u001b[0mt1\u001b[0m\u001b[1;33m)\u001b[0m\u001b[1;33m\u001b[0m\u001b[1;33m\u001b[0m\u001b[0m\n\u001b[0m",
      "\u001b[1;31mNameError\u001b[0m: name 't1' is not defined"
     ]
    }
   ],
   "source": [
    "print(t1)"
   ]
  },
  {
   "cell_type": "code",
   "execution_count": null,
   "metadata": {},
   "outputs": [],
   "source": [
    "t1=(1,2,3,4,8)"
   ]
  },
  {
   "cell_type": "code",
   "execution_count": 59,
   "metadata": {},
   "outputs": [],
   "source": [
    "length=len(t1)"
   ]
  },
  {
   "cell_type": "code",
   "execution_count": 60,
   "metadata": {},
   "outputs": [
    {
     "name": "stdout",
     "output_type": "stream",
     "text": [
      "1\n",
      "2\n",
      "3\n",
      "4\n"
     ]
    }
   ],
   "source": [
    "i=1\n",
    "while i in t1:\n",
    "    print(i)\n",
    "    i=i+1"
   ]
  },
  {
   "cell_type": "markdown",
   "metadata": {},
   "source": [
    "# Sets in Python "
   ]
  },
  {
   "cell_type": "markdown",
   "metadata": {},
   "source": [
    " - set is unordered\n",
    " - set is unindexed\n",
    " - set is mutable for only few operations\n",
    " - set allows different type of elements\n",
    " - duplicate elements are not allowed\n",
    " - {} is used to represent a set\n",
    " "
   ]
  },
  {
   "cell_type": "code",
   "execution_count": 68,
   "metadata": {},
   "outputs": [],
   "source": [
    "# Create a set\n",
    "set1={1,2,3,4,5.6,\"str elment\"}"
   ]
  },
  {
   "cell_type": "code",
   "execution_count": 69,
   "metadata": {},
   "outputs": [
    {
     "name": "stdout",
     "output_type": "stream",
     "text": [
      "{1, 2, 3, 4, 5.6, 'str elment'}\n",
      "<class 'set'>\n",
      "6\n"
     ]
    }
   ],
   "source": [
    "print(set1)\n",
    "print(type(set1))\n",
    "print(len(set1))"
   ]
  },
  {
   "cell_type": "code",
   "execution_count": 70,
   "metadata": {},
   "outputs": [
    {
     "name": "stdout",
     "output_type": "stream",
     "text": [
      "1 2 3 4 5.6 str elment "
     ]
    }
   ],
   "source": [
    "# print all set elements using loo\n",
    "for i in set1:\n",
    "    print(i,end=\" \")\n",
    "    "
   ]
  },
  {
   "cell_type": "code",
   "execution_count": 71,
   "metadata": {},
   "outputs": [
    {
     "name": "stdout",
     "output_type": "stream",
     "text": [
      "True\n",
      "False\n"
     ]
    }
   ],
   "source": [
    "# Check elemennt exist in element or not\n",
    "print(5.6 in set1)\n",
    "print(565 in set1)"
   ]
  },
  {
   "cell_type": "code",
   "execution_count": 76,
   "metadata": {},
   "outputs": [],
   "source": [
    "# Modify set elements\n",
    "# Set does not allowed changes in element bu you can add new elements at last using add method\n",
    "# Existing elements willl not be modified"
   ]
  },
  {
   "cell_type": "code",
   "execution_count": 75,
   "metadata": {},
   "outputs": [
    {
     "ename": "TypeError",
     "evalue": "'set' object does not support item assignment",
     "output_type": "error",
     "traceback": [
      "\u001b[1;31m---------------------------------------------------------------------------\u001b[0m",
      "\u001b[1;31mTypeError\u001b[0m                                 Traceback (most recent call last)",
      "\u001b[1;32m<ipython-input-75-58a4e00f956d>\u001b[0m in \u001b[0;36m<module>\u001b[1;34m\u001b[0m\n\u001b[1;32m----> 1\u001b[1;33m \u001b[0mset1\u001b[0m\u001b[1;33m[\u001b[0m\u001b[1;36m1\u001b[0m\u001b[1;33m]\u001b[0m\u001b[1;33m=\u001b[0m\u001b[1;36m9\u001b[0m\u001b[1;33m\u001b[0m\u001b[1;33m\u001b[0m\u001b[0m\n\u001b[0m",
      "\u001b[1;31mTypeError\u001b[0m: 'set' object does not support item assignment"
     ]
    }
   ],
   "source": [
    "set1[1]=9"
   ]
  },
  {
   "cell_type": "code",
   "execution_count": 77,
   "metadata": {},
   "outputs": [
    {
     "data": {
      "text/plain": [
       "{1, 2, 3, 4, 5.6, 'str elment'}"
      ]
     },
     "execution_count": 77,
     "metadata": {},
     "output_type": "execute_result"
    }
   ],
   "source": [
    "set1\n",
    "\n"
   ]
  },
  {
   "cell_type": "code",
   "execution_count": 78,
   "metadata": {},
   "outputs": [],
   "source": [
    "set1.add(\"ajdkf\")"
   ]
  },
  {
   "cell_type": "code",
   "execution_count": 79,
   "metadata": {},
   "outputs": [
    {
     "data": {
      "text/plain": [
       "{1, 2, 3, 4, 5.6, 'ajdkf', 'str elment'}"
      ]
     },
     "execution_count": 79,
     "metadata": {},
     "output_type": "execute_result"
    }
   ],
   "source": [
    "set1"
   ]
  },
  {
   "cell_type": "code",
   "execution_count": 80,
   "metadata": {},
   "outputs": [],
   "source": [
    "# Hwo to add multiple elements in set\n",
    "set1.update({\"hii\",2,3.5,2+7j,True})"
   ]
  },
  {
   "cell_type": "code",
   "execution_count": 84,
   "metadata": {},
   "outputs": [
    {
     "name": "stdout",
     "output_type": "stream",
     "text": [
      "{'ajdkf', 1, 2, 3, 4, 5.6, 'str elment', 3.5, 'hii', (2+7j)}\n",
      "10\n"
     ]
    }
   ],
   "source": [
    "print(set1)\n",
    "print(len(set1))"
   ]
  },
  {
   "cell_type": "code",
   "execution_count": 87,
   "metadata": {},
   "outputs": [],
   "source": [
    "# remove set elements\n",
    "    # using remove method\n",
    "set1.remove(\"hii\")"
   ]
  },
  {
   "cell_type": "code",
   "execution_count": 88,
   "metadata": {},
   "outputs": [
    {
     "name": "stdout",
     "output_type": "stream",
     "text": [
      "{'ajdkf', 1, 2, 3, 4, 5.6, 'str elment', 3.5, (2+7j)}\n"
     ]
    }
   ],
   "source": [
    "print(set1)"
   ]
  },
  {
   "cell_type": "code",
   "execution_count": 89,
   "metadata": {},
   "outputs": [],
   "source": [
    "# Using discard method remove elements\n",
    "set1.discard(3.5)"
   ]
  },
  {
   "cell_type": "code",
   "execution_count": 90,
   "metadata": {},
   "outputs": [
    {
     "data": {
      "text/plain": [
       "{(2+7j), 1, 2, 3, 4, 5.6, 'ajdkf', 'str elment'}"
      ]
     },
     "execution_count": 90,
     "metadata": {},
     "output_type": "execute_result"
    }
   ],
   "source": [
    "set1"
   ]
  },
  {
   "cell_type": "code",
   "execution_count": 95,
   "metadata": {},
   "outputs": [
    {
     "data": {
      "text/plain": [
       "3"
      ]
     },
     "execution_count": 95,
     "metadata": {},
     "output_type": "execute_result"
    }
   ],
   "source": [
    "# Remove by pop method\n",
    "set1.pop()"
   ]
  },
  {
   "cell_type": "code",
   "execution_count": 96,
   "metadata": {},
   "outputs": [
    {
     "data": {
      "text/plain": [
       "{(2+7j), 4, 5.6, 'str elment'}"
      ]
     },
     "execution_count": 96,
     "metadata": {},
     "output_type": "execute_result"
    }
   ],
   "source": [
    "set1\n"
   ]
  },
  {
   "cell_type": "code",
   "execution_count": 97,
   "metadata": {},
   "outputs": [],
   "source": [
    "set2=set1\n",
    "set2\n",
    "set2.add(\"xxx\")"
   ]
  },
  {
   "cell_type": "code",
   "execution_count": 98,
   "metadata": {},
   "outputs": [
    {
     "data": {
      "text/plain": [
       "{(2+7j), 4, 5.6, 'str elment', 'xxx'}"
      ]
     },
     "execution_count": 98,
     "metadata": {},
     "output_type": "execute_result"
    }
   ],
   "source": [
    "set2"
   ]
  },
  {
   "cell_type": "code",
   "execution_count": 99,
   "metadata": {},
   "outputs": [
    {
     "data": {
      "text/plain": [
       "{(2+7j), 4, 5.6, 'str elment', 'xxx'}"
      ]
     },
     "execution_count": 99,
     "metadata": {},
     "output_type": "execute_result"
    }
   ],
   "source": [
    "set1"
   ]
  },
  {
   "cell_type": "code",
   "execution_count": 100,
   "metadata": {},
   "outputs": [],
   "source": [
    "set3=set1.copy()\n"
   ]
  },
  {
   "cell_type": "code",
   "execution_count": 101,
   "metadata": {},
   "outputs": [
    {
     "data": {
      "text/plain": [
       "{(2+7j), 4, 5.6, 'str elment', 'xxx'}"
      ]
     },
     "execution_count": 101,
     "metadata": {},
     "output_type": "execute_result"
    }
   ],
   "source": [
    "set3"
   ]
  },
  {
   "cell_type": "code",
   "execution_count": 102,
   "metadata": {},
   "outputs": [
    {
     "name": "stdout",
     "output_type": "stream",
     "text": [
      "{4, 5.6, 'str elment', (2+7j), 'xxx'}\n"
     ]
    }
   ],
   "source": [
    "# How to clear a set\n",
    "print(set3)\n",
    "set3.clear()\n"
   ]
  },
  {
   "cell_type": "code",
   "execution_count": 104,
   "metadata": {},
   "outputs": [
    {
     "data": {
      "text/plain": [
       "set()"
      ]
     },
     "execution_count": 104,
     "metadata": {},
     "output_type": "execute_result"
    }
   ],
   "source": [
    "set3"
   ]
  },
  {
   "cell_type": "markdown",
   "metadata": {},
   "source": [
    "## How to join two or more sets\n",
    "- Union\n",
    "- Intersection\n",
    "- difference\n",
    "- issubset\n",
    "- issuperset\n",
    "- isdisjoint\n",
    "- symmetri_difference"
   ]
  },
  {
   "cell_type": "code",
   "execution_count": 110,
   "metadata": {},
   "outputs": [],
   "source": [
    "setA={\"apple\",\"banana\",\"mango\"}\n",
    "setB={\"google\",\"microsoft\",\"apple\"}\n"
   ]
  },
  {
   "cell_type": "code",
   "execution_count": 111,
   "metadata": {},
   "outputs": [
    {
     "data": {
      "text/plain": [
       "{'apple', 'banana', 'mango'}"
      ]
     },
     "execution_count": 111,
     "metadata": {},
     "output_type": "execute_result"
    }
   ],
   "source": [
    "setA"
   ]
  },
  {
   "cell_type": "code",
   "execution_count": 112,
   "metadata": {},
   "outputs": [
    {
     "data": {
      "text/plain": [
       "{'apple', 'google', 'microsoft'}"
      ]
     },
     "execution_count": 112,
     "metadata": {},
     "output_type": "execute_result"
    }
   ],
   "source": [
    "setB"
   ]
  },
  {
   "cell_type": "code",
   "execution_count": 113,
   "metadata": {},
   "outputs": [
    {
     "name": "stdout",
     "output_type": "stream",
     "text": [
      "{'google', 'microsoft', 'banana', 'mango', 'apple'}\n"
     ]
    }
   ],
   "source": [
    "# Union\n",
    "unionset=setA.union(setB)\n",
    "print(unionset)"
   ]
  },
  {
   "cell_type": "code",
   "execution_count": 114,
   "metadata": {},
   "outputs": [
    {
     "name": "stdout",
     "output_type": "stream",
     "text": [
      "{'apple'}\n"
     ]
    }
   ],
   "source": [
    "# Intersection\n",
    "intersectionset=setA.intersection(setB)\n",
    "print(intersectionset)"
   ]
  },
  {
   "cell_type": "code",
   "execution_count": 116,
   "metadata": {},
   "outputs": [
    {
     "name": "stdout",
     "output_type": "stream",
     "text": [
      "{'banana', 'mango'}\n"
     ]
    }
   ],
   "source": [
    "# Difference\n",
    "differenceset=setA.difference(setB)\n",
    "print(differenceset)"
   ]
  },
  {
   "cell_type": "code",
   "execution_count": 117,
   "metadata": {},
   "outputs": [
    {
     "name": "stdout",
     "output_type": "stream",
     "text": [
      "{'google', 'banana', 'microsoft', 'mango'}\n"
     ]
    }
   ],
   "source": [
    "# Symmetric difference\n",
    "symmetricdifferanceset=setA.symmetric_difference(setB)\n",
    "print(symmetricdifferanceset)"
   ]
  },
  {
   "cell_type": "code",
   "execution_count": 121,
   "metadata": {},
   "outputs": [
    {
     "name": "stdout",
     "output_type": "stream",
     "text": [
      "{'os', 'ds', 'ml', 'c', 'java', 'python', 'coa'}\n",
      "{'c', 'python', 'java'}\n"
     ]
    }
   ],
   "source": [
    "setC={\"coa\",\"os\",\"ds\",\"java\",\"python\",\"ml\",\"c\"}\n",
    "setD={\"c\",\"python\",\"java\"}\n",
    "print(setC)\n",
    "print(setD)"
   ]
  },
  {
   "cell_type": "code",
   "execution_count": 122,
   "metadata": {},
   "outputs": [
    {
     "name": "stdout",
     "output_type": "stream",
     "text": [
      "True\n"
     ]
    }
   ],
   "source": [
    "# is subset\n",
    "print(setD.issubset(setC))"
   ]
  },
  {
   "cell_type": "code",
   "execution_count": 123,
   "metadata": {},
   "outputs": [
    {
     "name": "stdout",
     "output_type": "stream",
     "text": [
      "False\n",
      "True\n"
     ]
    }
   ],
   "source": [
    "# superset\n",
    "print(setD.issuperset(setC))\n",
    "\n",
    "print(setC.issuperset(setD))"
   ]
  },
  {
   "cell_type": "code",
   "execution_count": 124,
   "metadata": {},
   "outputs": [
    {
     "name": "stdout",
     "output_type": "stream",
     "text": [
      "True\n",
      "False\n"
     ]
    }
   ],
   "source": [
    "# is disjoint\n",
    "print(setA.isdisjoint(setC))\n",
    "print(setA.isdisjoint(setB))\n"
   ]
  },
  {
   "cell_type": "markdown",
   "metadata": {},
   "source": [
    "# Dictionary\n",
    "\n",
    "- dictionary is unordered\n",
    "- it is changeble\n",
    "- {} is used to create dictionaries\n",
    "- element will be in form of \"key value\"pair"
   ]
  },
  {
   "cell_type": "code",
   "execution_count": 125,
   "metadata": {},
   "outputs": [],
   "source": [
    "# Create a dictionary"
   ]
  },
  {
   "cell_type": "code",
   "execution_count": 126,
   "metadata": {},
   "outputs": [],
   "source": [
    "vehical_dict={\n",
    "    \"brand\":\"BMW\",\n",
    "    \"model\":\"720d\",\n",
    "    \"year\":2010,\n",
    "    \"price\":5400000\n",
    "}\n"
   ]
  },
  {
   "cell_type": "code",
   "execution_count": 127,
   "metadata": {},
   "outputs": [
    {
     "name": "stdout",
     "output_type": "stream",
     "text": [
      "{'brand': 'BMW', 'model': '720d', 'year': 2010, 'price': 5400000}\n"
     ]
    }
   ],
   "source": [
    "# print dictionay\n",
    "print(vehical_dict)"
   ]
  },
  {
   "cell_type": "code",
   "execution_count": 130,
   "metadata": {},
   "outputs": [
    {
     "name": "stdout",
     "output_type": "stream",
     "text": [
      "BMW\n",
      "720d\n",
      "2010\n",
      "5400000\n"
     ]
    }
   ],
   "source": [
    "# Access elements dictionaries\n",
    "print(vehical_dict[\"brand\"])\n",
    "print(vehical_dict[\"model\"])\n",
    "print(vehical_dict[\"year\"])\n",
    "print(vehical_dict[\"price\"])"
   ]
  },
  {
   "cell_type": "code",
   "execution_count": 132,
   "metadata": {},
   "outputs": [
    {
     "name": "stdout",
     "output_type": "stream",
     "text": [
      "720d\n",
      "5400000\n"
     ]
    }
   ],
   "source": [
    "# Display values of dictionary using get()method\n",
    "print(vehical_dict.get(\"model\"))\n",
    "print(vehical_dict.get(\"price\"))"
   ]
  },
  {
   "cell_type": "code",
   "execution_count": 134,
   "metadata": {},
   "outputs": [],
   "source": [
    "# Change year to 2018 feom 2010\n",
    "vehical_dict[\"year\"]=2018"
   ]
  },
  {
   "cell_type": "code",
   "execution_count": 135,
   "metadata": {},
   "outputs": [
    {
     "data": {
      "text/plain": [
       "{'brand': 'BMW', 'model': '720d', 'year': 2018, 'price': 5400000}"
      ]
     },
     "execution_count": 135,
     "metadata": {},
     "output_type": "execute_result"
    }
   ],
   "source": [
    "vehical_dict\n"
   ]
  },
  {
   "cell_type": "code",
   "execution_count": 136,
   "metadata": {},
   "outputs": [
    {
     "name": "stdout",
     "output_type": "stream",
     "text": [
      "brand\n",
      "model\n",
      "year\n",
      "price\n"
     ]
    }
   ],
   "source": [
    "# print dictionary using loops\n",
    "# print only keys\n",
    "for i in vehical_dict:\n",
    "    print(i)"
   ]
  },
  {
   "cell_type": "code",
   "execution_count": 141,
   "metadata": {},
   "outputs": [
    {
     "name": "stdout",
     "output_type": "stream",
     "text": [
      "BMW\n",
      "720d\n",
      "2018\n",
      "5400000\n"
     ]
    }
   ],
   "source": [
    "# print only values\n",
    "for i in vehical_dict.values():\n",
    "    print(i)\n"
   ]
  },
  {
   "cell_type": "code",
   "execution_count": 143,
   "metadata": {},
   "outputs": [
    {
     "name": "stdout",
     "output_type": "stream",
     "text": [
      "brand BMW\n",
      "model 720d\n",
      "year 2018\n",
      "price 5400000\n"
     ]
    }
   ],
   "source": [
    "# print both keys and values using loop\n",
    "for i,j in vehical_dict.items():\n",
    "    print(i,j)"
   ]
  },
  {
   "cell_type": "code",
   "execution_count": 146,
   "metadata": {},
   "outputs": [
    {
     "name": "stdout",
     "output_type": "stream",
     "text": [
      "4\n"
     ]
    }
   ],
   "source": [
    "# length of dictionary\n",
    "print(len(vehical_dict))\n"
   ]
  },
  {
   "cell_type": "code",
   "execution_count": 148,
   "metadata": {},
   "outputs": [
    {
     "name": "stdout",
     "output_type": "stream",
     "text": [
      "True\n",
      "False\n"
     ]
    }
   ],
   "source": [
    "# check prise is present in dic or not\n",
    "print(\"price\" in vehical_dict)\n",
    "print(\"pricdgfge\" in vehical_dict)\n",
    "\n"
   ]
  },
  {
   "cell_type": "code",
   "execution_count": 149,
   "metadata": {},
   "outputs": [
    {
     "name": "stdout",
     "output_type": "stream",
     "text": [
      "True\n"
     ]
    }
   ],
   "source": [
    "print(2018 in vehical_dict.values())\n"
   ]
  },
  {
   "cell_type": "code",
   "execution_count": 150,
   "metadata": {},
   "outputs": [],
   "source": [
    "# How to add new item into dictinonaru\n",
    "vehical_dict[\"owner\"]=\"Avishkar\""
   ]
  },
  {
   "cell_type": "code",
   "execution_count": 151,
   "metadata": {},
   "outputs": [
    {
     "name": "stdout",
     "output_type": "stream",
     "text": [
      "{'brand': 'BMW', 'model': '720d', 'year': 2018, 'price': 5400000, 'owner': 'Avishkar'}\n"
     ]
    }
   ],
   "source": [
    "print(vehical_dict)"
   ]
  },
  {
   "cell_type": "code",
   "execution_count": 152,
   "metadata": {},
   "outputs": [
    {
     "data": {
      "text/plain": [
       "2018"
      ]
     },
     "execution_count": 152,
     "metadata": {},
     "output_type": "execute_result"
    }
   ],
   "source": [
    "# Remove items from dictionary\n",
    "vehical_dict.pop('year')"
   ]
  },
  {
   "cell_type": "code",
   "execution_count": 153,
   "metadata": {},
   "outputs": [
    {
     "name": "stdout",
     "output_type": "stream",
     "text": [
      "{'brand': 'BMW', 'model': '720d', 'price': 5400000, 'owner': 'Avishkar'}\n"
     ]
    }
   ],
   "source": [
    "print(vehical_dict)"
   ]
  },
  {
   "cell_type": "code",
   "execution_count": 154,
   "metadata": {},
   "outputs": [],
   "source": [
    "# Remove using del keyword\n",
    "del vehical_dict[\"price\"]"
   ]
  },
  {
   "cell_type": "code",
   "execution_count": 155,
   "metadata": {},
   "outputs": [
    {
     "name": "stdout",
     "output_type": "stream",
     "text": [
      "{'brand': 'BMW', 'model': '720d', 'owner': 'Avishkar'}\n"
     ]
    }
   ],
   "source": [
    "print(vehical_dict)"
   ]
  },
  {
   "cell_type": "code",
   "execution_count": 156,
   "metadata": {},
   "outputs": [],
   "source": [
    "vehical=vehical_dict\n",
    "del vehical_dict"
   ]
  },
  {
   "cell_type": "code",
   "execution_count": 157,
   "metadata": {},
   "outputs": [
    {
     "ename": "NameError",
     "evalue": "name 'vehical_dict' is not defined",
     "output_type": "error",
     "traceback": [
      "\u001b[1;31m---------------------------------------------------------------------------\u001b[0m",
      "\u001b[1;31mNameError\u001b[0m                                 Traceback (most recent call last)",
      "\u001b[1;32m<ipython-input-157-b16d598cb8ef>\u001b[0m in \u001b[0;36m<module>\u001b[1;34m\u001b[0m\n\u001b[1;32m----> 1\u001b[1;33m \u001b[0mprint\u001b[0m\u001b[1;33m(\u001b[0m\u001b[0mvehical_dict\u001b[0m\u001b[1;33m)\u001b[0m\u001b[1;33m\u001b[0m\u001b[1;33m\u001b[0m\u001b[0m\n\u001b[0m",
      "\u001b[1;31mNameError\u001b[0m: name 'vehical_dict' is not defined"
     ]
    }
   ],
   "source": [
    "print(vehical_dict)"
   ]
  },
  {
   "cell_type": "code",
   "execution_count": 158,
   "metadata": {},
   "outputs": [
    {
     "name": "stdout",
     "output_type": "stream",
     "text": [
      "{'brand': 'BMW', 'model': '720d', 'owner': 'Avishkar'}\n"
     ]
    }
   ],
   "source": [
    "print(vehical)"
   ]
  },
  {
   "cell_type": "code",
   "execution_count": 160,
   "metadata": {},
   "outputs": [],
   "source": [
    "# Clear dictionary\n",
    "temp_dict=vehical.copy()\n",
    "temp_dict.clear()"
   ]
  },
  {
   "cell_type": "code",
   "execution_count": 161,
   "metadata": {},
   "outputs": [
    {
     "data": {
      "text/plain": [
       "{}"
      ]
     },
     "execution_count": 161,
     "metadata": {},
     "output_type": "execute_result"
    }
   ],
   "source": [
    "temp_dict\n"
   ]
  },
  {
   "cell_type": "code",
   "execution_count": 162,
   "metadata": {},
   "outputs": [
    {
     "data": {
      "text/plain": [
       "{'brand': 'BMW', 'model': '720d', 'owner': 'Avishkar'}"
      ]
     },
     "execution_count": 162,
     "metadata": {},
     "output_type": "execute_result"
    }
   ],
   "source": [
    "vehical"
   ]
  },
  {
   "cell_type": "code",
   "execution_count": 163,
   "metadata": {},
   "outputs": [
    {
     "name": "stdout",
     "output_type": "stream",
     "text": [
      "{'brand': 'BMW', 'model': '720d', 'owner': 'Avishkar'}\n"
     ]
    }
   ],
   "source": [
    "# Make copy of dictionary using dict() function\n",
    "new_dict=dict(vehical)\n",
    "print(new_dict)"
   ]
  },
  {
   "cell_type": "code",
   "execution_count": 166,
   "metadata": {},
   "outputs": [
    {
     "name": "stdout",
     "output_type": "stream",
     "text": [
      "{'name': 'Redmi', 'internal_storage': 64, 'RAM': '4_GB', 'colour': 'red'}\n",
      "{'brand': 'sansui', 'model': 456, 'year': 2019, 'price': 50000}\n",
      "{'brand': 'BMW', 'model': '720d', 'year': 2010, 'price': 5400000}\n",
      "{'brand': 'dell', 'model': 22222, 'price': 100000, 'ram': '4GB'}\n"
     ]
    }
   ],
   "source": [
    "# How to create new dictionary\n",
    "# Create 4 dictionaries for your mobile,TV,vehical,laptop \n",
    "# with four parameters each merge these 4 subd_dict into only called my_dict\n",
    "mobile_dict={\n",
    "    \"name\":\"Redmi\",\n",
    "    \"internal_storage\":64,\n",
    "    \"RAM\":\"4_GB\",\n",
    "    \"colour\":\"red\"\n",
    "}\n",
    "TV_dict={\n",
    "    \"brand\":\"sansui\",\n",
    "    \"model\":456,\n",
    "    \"year\":2019,\n",
    "    \"price\":50000\n",
    "}\n",
    "vehical_dict={\n",
    "    \"brand\":\"BMW\",\n",
    "    \"model\":\"720d\",\n",
    "    \"year\":2010,\n",
    "    \"price\":5400000\n",
    "}\n",
    "laptop_dict={\n",
    "    \"brand\":\"dell\",\n",
    "    \"model\":22222,\n",
    "    \"price\":100000,\n",
    "    \"ram\":\"4GB\"\n",
    "}\n",
    "print(mobile_dict)\n",
    "print(TV_dict)\n",
    "print(vehical_dict)\n",
    "print(laptop_dict)\n"
   ]
  },
  {
   "cell_type": "code",
   "execution_count": 176,
   "metadata": {},
   "outputs": [],
   "source": [
    "my_own_items_dict={\n",
    "    'm':mobile_dict,\n",
    "    't':TV_dict,\n",
    "    'v':vehical_dict,\n",
    "    'l':laptop_dict\n",
    "}"
   ]
  },
  {
   "cell_type": "code",
   "execution_count": 177,
   "metadata": {},
   "outputs": [
    {
     "name": "stdout",
     "output_type": "stream",
     "text": [
      "{'m': {'name': 'Redmi', 'internal_storage': 64, 'RAM': '4_GB', 'colour': 'red'}, 't': {'brand': 'sansui', 'model': 456, 'year': 2019, 'price': 50000}, 'v': {'brand': 'BMW', 'model': '720d', 'year': 2010, 'price': 5400000}, 'l': {'brand': 'dell', 'model': 22222, 'price': 100000, 'ram': '4GB'}}\n"
     ]
    }
   ],
   "source": [
    "print(my_own_items_dict)"
   ]
  },
  {
   "cell_type": "code",
   "execution_count": 178,
   "metadata": {},
   "outputs": [
    {
     "name": "stdout",
     "output_type": "stream",
     "text": [
      "{'name': 'yo', 'AA4': 2525}\n"
     ]
    }
   ],
   "source": [
    "# Another way to create dictionary using constructor\n",
    "new_dict=dict(name=\"yo\",AA4=2525)\n",
    "print(new_dict)\n"
   ]
  },
  {
   "cell_type": "code",
   "execution_count": 179,
   "metadata": {},
   "outputs": [],
   "source": [
    "del new_dict"
   ]
  },
  {
   "cell_type": "code",
   "execution_count": null,
   "metadata": {},
   "outputs": [],
   "source": []
  }
 ],
 "metadata": {
  "kernelspec": {
   "display_name": "Python 3",
   "language": "python",
   "name": "python3"
  },
  "language_info": {
   "codemirror_mode": {
    "name": "ipython",
    "version": 3
   },
   "file_extension": ".py",
   "mimetype": "text/x-python",
   "name": "python",
   "nbconvert_exporter": "python",
   "pygments_lexer": "ipython3",
   "version": "3.7.4"
  }
 },
 "nbformat": 4,
 "nbformat_minor": 2
}
