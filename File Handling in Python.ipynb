{
 "cells": [
  {
   "cell_type": "markdown",
   "metadata": {},
   "source": [
    "### Reading entire file"
   ]
  },
  {
   "cell_type": "code",
   "execution_count": 11,
   "metadata": {},
   "outputs": [
    {
     "name": "stdout",
     "output_type": "stream",
     "text": [
      "Pavan \n",
      "Kulkarni\n",
      "Panvel\n",
      "20\n",
      "9869990750\n"
     ]
    }
   ],
   "source": [
    "f=open(\"C:/Users/Avya/Desktop/Temp/records.txt\",\"r\")\n",
    "print(f.read())\n"
   ]
  },
  {
   "cell_type": "code",
   "execution_count": 14,
   "metadata": {},
   "outputs": [
    {
     "name": "stdout",
     "output_type": "stream",
     "text": [
      "Pavan \n",
      "\n",
      "Kulkarni\n",
      "\n"
     ]
    }
   ],
   "source": [
    "# Reading file line by line \n",
    "f=open(\"C:/Users/Avya/Desktop/Temp/records.txt\",\"r\")\n",
    "print(f.readline())\n",
    "print(f.readline())"
   ]
  },
  {
   "cell_type": "code",
   "execution_count": 24,
   "metadata": {},
   "outputs": [
    {
     "name": "stdout",
     "output_type": "stream",
     "text": [
      "Pavan \n",
      "\n",
      "Kulkarni\n",
      "\n",
      "Panvel\n",
      "\n",
      "20\n",
      "\n",
      "9869990750\n"
     ]
    }
   ],
   "source": [
    "# - Reading file using loop\n",
    "\n",
    "f=open(\"C:/Users/Avya/Desktop/Temp/records.txt\")\n",
    "for line in f:\n",
    "    print(line)\n"
   ]
  },
  {
   "cell_type": "code",
   "execution_count": 22,
   "metadata": {},
   "outputs": [
    {
     "name": "stdout",
     "output_type": "stream",
     "text": [
      "Pavan \n",
      "\n",
      "Kulkarni\n",
      "\n",
      "Panvel\n",
      "\n",
      "20\n",
      "\n",
      "9869990750\n",
      "File is currently open.....\n",
      "File is closed now\n"
     ]
    }
   ],
   "source": [
    "# - close open file \n",
    "f=open(\"C:/Users/Avya/Desktop/Temp/records.txt\")\n",
    "for line in f:\n",
    "    print(line)\n",
    "print(\"File is currently open.....\")\n",
    "f.close()\n",
    "print(\"File is closed now\")\n"
   ]
  },
  {
   "cell_type": "markdown",
   "metadata": {},
   "source": [
    "###### Writing into file"
   ]
  },
  {
   "cell_type": "markdown",
   "metadata": {},
   "source": [
    "- For writing into files we have 2 modes\n",
    "- a - append (does not replace existing file)\n",
    "- w - overwrite (replace existing file content)"
   ]
  },
  {
   "cell_type": "code",
   "execution_count": 5,
   "metadata": {},
   "outputs": [
    {
     "name": "stdout",
     "output_type": "stream",
     "text": [
      "Content appended\n"
     ]
    }
   ],
   "source": [
    "# Append content to file\n",
    "f=open(\"C:/Users/Avya/Desktop/Temp/records.txt\",'a')\n",
    "f.write(\"\\nSayali\\nNavi mumbai\\n20\")\n",
    "f.close()\n",
    "print('Content appended')\n",
    "\n"
   ]
  },
  {
   "cell_type": "code",
   "execution_count": 8,
   "metadata": {},
   "outputs": [
    {
     "name": "stdout",
     "output_type": "stream",
     "text": [
      "new file is--\n",
      "Pavan \n",
      "Kulkarni\n",
      "Panvel\n",
      "20\n",
      "9869990750\\nAvyaaggggfhg\n",
      "Sayali\n",
      "Navi mumbai\n",
      "20\n"
     ]
    }
   ],
   "source": [
    "# Read updated file\n",
    "print(\"new file is--\")\n",
    "f=open(\"C:/Users/Avya/Desktop/Temp/records.txt\",'r')\n",
    "print(f.read())"
   ]
  },
  {
   "cell_type": "code",
   "execution_count": 9,
   "metadata": {},
   "outputs": [
    {
     "name": "stdout",
     "output_type": "stream",
     "text": [
      "Content appended\n"
     ]
    }
   ],
   "source": [
    "# Append the content to file\n",
    "f=open(\"C:/Users/Avya/Desktop/Temp/records.txt\",'a')\n",
    "appent_text=\n",
    "f.close()\n",
    "print('Content appended')"
   ]
  },
  {
   "cell_type": "markdown",
   "metadata": {},
   "source": [
    "- Write into files using write mode"
   ]
  },
  {
   "cell_type": "code",
   "execution_count": 10,
   "metadata": {},
   "outputs": [
    {
     "name": "stdout",
     "output_type": "stream",
     "text": [
      "Content overwritten\n"
     ]
    }
   ],
   "source": [
    "f=open(\"C:/Users/Avya/Desktop/Temp/records.txt\",'w')\n",
    "f.write(\"\\nSamrudha\\n20\\nKalamboli\")\n",
    "f.close()\n",
    "print('Content overwritten')"
   ]
  },
  {
   "cell_type": "code",
   "execution_count": 34,
   "metadata": {},
   "outputs": [
    {
     "name": "stdout",
     "output_type": "stream",
     "text": [
      "new file is--\n",
      "\n",
      "Samrudha\n",
      "20\n",
      "Kalamboli\n"
     ]
    }
   ],
   "source": [
    "# Read updated file\n",
    "print(\"new file is--\")\n",
    "f=open(\"C:/Users/Avya/Desktop/Temp/records.txt\",'r')\n",
    "print(f.read())\n",
    "f.close()"
   ]
  },
  {
   "cell_type": "markdown",
   "metadata": {},
   "source": [
    "### How to create new file"
   ]
  },
  {
   "cell_type": "code",
   "execution_count": 48,
   "metadata": {},
   "outputs": [],
   "source": [
    "f=open(\"C:/Users/Avya/Desktop/Temp/records4.txt\",'x')\n",
    "f.close()"
   ]
  },
  {
   "cell_type": "code",
   "execution_count": 49,
   "metadata": {},
   "outputs": [],
   "source": [
    "f=open(\"C:/Users/Avya/Desktop/Temp/records2.txt\",'w')\n",
    "f.close()"
   ]
  },
  {
   "cell_type": "code",
   "execution_count": 50,
   "metadata": {},
   "outputs": [],
   "source": [
    "f=open(\"C:/Users/Avya/Desktop/Temp/records3.txt\",'a')\n",
    "f.close()"
   ]
  },
  {
   "cell_type": "markdown",
   "metadata": {},
   "source": [
    "- To Create files in python we can use x,a,and w"
   ]
  },
  {
   "cell_type": "markdown",
   "metadata": {},
   "source": [
    "###### Deleting files and Directories"
   ]
  },
  {
   "cell_type": "code",
   "execution_count": 38,
   "metadata": {},
   "outputs": [],
   "source": [
    "import os"
   ]
  },
  {
   "cell_type": "code",
   "execution_count": 39,
   "metadata": {},
   "outputs": [],
   "source": [
    "os.remove(\"C:/Users/Avya/Desktop/Temp/records3.txt\")"
   ]
  },
  {
   "cell_type": "code",
   "execution_count": 40,
   "metadata": {},
   "outputs": [
    {
     "name": "stdout",
     "output_type": "stream",
     "text": [
      "Specified file is not there\n"
     ]
    }
   ],
   "source": [
    "if os.path.exists(\"C:/Users/Avya/Desktop/Temp/records3.txt\"):\n",
    "                     os.remove(\"C:/Users/Avya/Desktop/Temp/records3.txt\")\n",
    "else:\n",
    "                     print(\"Specified file is not there\")"
   ]
  },
  {
   "cell_type": "code",
   "execution_count": 8,
   "metadata": {},
   "outputs": [
    {
     "ename": "FileNotFoundError",
     "evalue": "[WinError 2] The system cannot find the file specified: 'C:/Users/Avya/Desktop/Temp/record1.txt'",
     "output_type": "error",
     "traceback": [
      "\u001b[1;31m---------------------------------------------------------------------------\u001b[0m",
      "\u001b[1;31mFileNotFoundError\u001b[0m                         Traceback (most recent call last)",
      "\u001b[1;32m<ipython-input-8-866544d9f34b>\u001b[0m in \u001b[0;36m<module>\u001b[1;34m\u001b[0m\n\u001b[0;32m      1\u001b[0m \u001b[1;32mimport\u001b[0m \u001b[0mos\u001b[0m\u001b[1;33m\u001b[0m\u001b[1;33m\u001b[0m\u001b[0m\n\u001b[1;32m----> 2\u001b[1;33m \u001b[0mos\u001b[0m\u001b[1;33m.\u001b[0m\u001b[0mrmdir\u001b[0m\u001b[1;33m(\u001b[0m\u001b[1;34m\"C:/Users/Avya/Desktop/Temp/record1.txt\"\u001b[0m\u001b[1;33m)\u001b[0m\u001b[1;33m\u001b[0m\u001b[1;33m\u001b[0m\u001b[0m\n\u001b[0m",
      "\u001b[1;31mFileNotFoundError\u001b[0m: [WinError 2] The system cannot find the file specified: 'C:/Users/Avya/Desktop/Temp/record1.txt'"
     ]
    }
   ],
   "source": [
    "import os\n",
    "os.rmdir(\"C:/Users/Avya/Desktop/Temp/record1.txt\")"
   ]
  },
  {
   "cell_type": "markdown",
   "metadata": {},
   "source": [
    "- Whenever we are working with files,at you must be close the file"
   ]
  },
  {
   "cell_type": "markdown",
   "metadata": {},
   "source": [
    "#### Create new directory on desktop,create new file using x mode ,write about yourself using w mode,read file through loop and count number of words and print it"
   ]
  },
  {
   "cell_type": "code",
   "execution_count": 12,
   "metadata": {},
   "outputs": [
    {
     "name": "stdout",
     "output_type": "stream",
     "text": [
      "\n",
      "\n",
      "Hiii Iam Avishkar\n",
      "\n",
      "I am 20 years old\n",
      "\n",
      " I like playing cricket\n"
     ]
    }
   ],
   "source": [
    "import os\n",
    "os.mkdir(\"C:/Users/Avya/Desktop/temp1\")             # create new directory on desktop named temp1\n",
    "f=open(\"C:/Users/Avya/Desktop/temp1/mytextfile.txt\",'x')       # create new file using x mode\n",
    "f=open(\"C:/Users/Avya/Desktop/temp1/mytextfile.txt\",'w')\n",
    "f.write(\"\\nHiii Iam Avishkar\\nI am 20 years old\\n I like playing cricket\")\n",
    "f.close()\n",
    "f=open(\"C:/Users/Avya/Desktop/temp1/mytextfile.txt\",'r')                        # Read the file using loop\n",
    "for line in f:\n",
    "    print(line)\n",
    "f.close()"
   ]
  },
  {
   "cell_type": "code",
   "execution_count": 14,
   "metadata": {},
   "outputs": [
    {
     "name": "stdout",
     "output_type": "stream",
     "text": [
      "['\\n'] ['Hiii', 'Iam', 'Avishkar\\n'] ['I', 'am', '20', 'years', 'old\\n'] ['', 'I', 'like', 'playing', 'cricket'] 14\n"
     ]
    }
   ],
   "source": [
    "# Write code to count the number of words\n",
    "no_of_words=0\n",
    "f=open(\"C:/Users/Avya/Desktop/temp1/mytextfile.txt\",'r')  \n",
    "for line in f:\n",
    "    words=line.split(\" \")\n",
    "    no_of_words=no_of_words+len(words)\n",
    "    print(words,end=\" \")\n",
    "print(no_of_words)"
   ]
  },
  {
   "cell_type": "markdown",
   "metadata": {},
   "source": [
    "## Write a program to accept Employee details and write into Employee.txt file,Employee id,name,salary,department,address, take from user"
   ]
  },
  {
   "cell_type": "code",
   "execution_count": 15,
   "metadata": {},
   "outputs": [
    {
     "name": "stdout",
     "output_type": "stream",
     "text": [
      "Enter employee id:101\n",
      "Enter employee name:Avishkar Gunjawate\n",
      "Enter employee salary:50000\n",
      "Enter employee Department:Computer\n",
      "Enter employee addressKalamboli\n",
      "Data written\n",
      "Employee details are:\n",
      "\n",
      "\n",
      "101\n",
      "Avishkar Gunjawate\n",
      "50000\n",
      "Computer\n",
      "Kalamboli\n"
     ]
    }
   ],
   "source": [
    "empID=input(\"Enter employee id:\")\n",
    "empName=input(\"Enter employee name:\")\n",
    "empSal=input(\"Enter employee salary:\")\n",
    "empDept=input(\"Enter employee Department:\")\n",
    "empLoc=input(\"Enter employee address\")\n",
    "\n",
    "with open(\"C:/Users/Avya/Desktop/temp1/Employee.txt\",'a') as f:\n",
    "    f.write(\"\\n\\n\")\n",
    "    f.write(empID)\n",
    "    f.write(\"\\n\")\n",
    "    f.write(empName)\n",
    "    f.write(\"\\n\")\n",
    "    f.write(empSal)\n",
    "    f.write(\"\\n\")\n",
    "    f.write(empDept)\n",
    "    f.write(\"\\n\")\n",
    "    f.write(empLoc)\n",
    "    print(\"Data written\")\n",
    "    \n",
    "with open(\"C:/Users/Avya/Desktop/temp1/Employee.txt\",'r') as f:\n",
    "    print(\"Employee details are:\")\n",
    "    print(f.read())\n",
    "\n",
    "\n"
   ]
  },
  {
   "cell_type": "code",
   "execution_count": null,
   "metadata": {},
   "outputs": [],
   "source": []
  }
 ],
 "metadata": {
  "kernelspec": {
   "display_name": "Python 3",
   "language": "python",
   "name": "python3"
  },
  "language_info": {
   "codemirror_mode": {
    "name": "ipython",
    "version": 3
   },
   "file_extension": ".py",
   "mimetype": "text/x-python",
   "name": "python",
   "nbconvert_exporter": "python",
   "pygments_lexer": "ipython3",
   "version": "3.7.4"
  }
 },
 "nbformat": 4,
 "nbformat_minor": 2
}
