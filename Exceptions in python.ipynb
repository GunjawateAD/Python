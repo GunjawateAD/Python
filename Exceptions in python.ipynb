{
 "cells": [
  {
   "cell_type": "code",
   "execution_count": 1,
   "metadata": {},
   "outputs": [],
   "source": [
    "import math"
   ]
  },
  {
   "cell_type": "markdown",
   "metadata": {},
   "source": [
    "- In python there is 3 types of errors\n",
    "- Syntax error\n",
    "- Logical error\n",
    "- Runtime error(Exception)"
   ]
  },
  {
   "cell_type": "code",
   "execution_count": 5,
   "metadata": {},
   "outputs": [
    {
     "name": "stdout",
     "output_type": "stream",
     "text": [
      "Enter no to find sqrt-22\n"
     ]
    },
    {
     "ename": "ValueError",
     "evalue": "math domain error",
     "output_type": "error",
     "traceback": [
      "\u001b[1;31m---------------------------------------------------------------------------\u001b[0m",
      "\u001b[1;31mValueError\u001b[0m                                Traceback (most recent call last)",
      "\u001b[1;32m<ipython-input-5-16c5aae8c9a9>\u001b[0m in \u001b[0;36m<module>\u001b[1;34m\u001b[0m\n\u001b[0;32m      1\u001b[0m \u001b[0mnum\u001b[0m\u001b[1;33m=\u001b[0m\u001b[0mint\u001b[0m\u001b[1;33m(\u001b[0m\u001b[0minput\u001b[0m\u001b[1;33m(\u001b[0m\u001b[1;34m\"Enter no to find sqrt\"\u001b[0m\u001b[1;33m)\u001b[0m\u001b[1;33m)\u001b[0m\u001b[1;33m\u001b[0m\u001b[1;33m\u001b[0m\u001b[0m\n\u001b[1;32m----> 2\u001b[1;33m \u001b[0mmath\u001b[0m\u001b[1;33m.\u001b[0m\u001b[0msqrt\u001b[0m\u001b[1;33m(\u001b[0m\u001b[0mnum\u001b[0m\u001b[1;33m)\u001b[0m\u001b[1;33m\u001b[0m\u001b[1;33m\u001b[0m\u001b[0m\n\u001b[0m",
      "\u001b[1;31mValueError\u001b[0m: math domain error"
     ]
    }
   ],
   "source": [
    "num=int(input(\"Enter no to find sqrt\"))\n",
    "math.sqrt(num)"
   ]
  },
  {
   "cell_type": "code",
   "execution_count": 8,
   "metadata": {},
   "outputs": [
    {
     "name": "stdout",
     "output_type": "stream",
     "text": [
      "Enter no to find sqrt-22\n",
      "Squre root of negative number not calculated\n"
     ]
    }
   ],
   "source": [
    "try:\n",
    "    num=int(input(\"Enter no to find sqrt\"))\n",
    "    print(math.sqrt(num))\n",
    "except:\n",
    "    print(\"Squre root of negative number not calculated\")"
   ]
  },
  {
   "cell_type": "markdown",
   "metadata": {},
   "source": [
    "- try\n",
    "- except\n",
    "- raise \n",
    "- else\n",
    "- finally\n"
   ]
  },
  {
   "cell_type": "code",
   "execution_count": 10,
   "metadata": {},
   "outputs": [
    {
     "name": "stdout",
     "output_type": "stream",
     "text": [
      "X is not having value\n"
     ]
    }
   ],
   "source": [
    "try:\n",
    "    print(x)\n",
    "except:\n",
    "    print(\"X is not having value\")"
   ]
  },
  {
   "cell_type": "markdown",
   "metadata": {},
   "source": [
    "###### In try block we have to write those statements where we feel exceptions is going to generate\n",
    "###### If exception is going to be generate ,costamised message will be displyed to user using \"except\" block"
   ]
  },
  {
   "cell_type": "markdown",
   "metadata": {},
   "source": [
    "### Some common types of exception"
   ]
  },
  {
   "cell_type": "code",
   "execution_count": 11,
   "metadata": {},
   "outputs": [
    {
     "name": "stdout",
     "output_type": "stream",
     "text": [
      "Name C is not defined\n"
     ]
    }
   ],
   "source": [
    "try:\n",
    "    print(c)\n",
    "except NameError:\n",
    "    print(\"Name C is not defined\")"
   ]
  },
  {
   "cell_type": "code",
   "execution_count": 16,
   "metadata": {},
   "outputs": [
    {
     "name": "stdout",
     "output_type": "stream",
     "text": [
      "Enter the index5\n",
      "Maximum index of list1 is 2\n"
     ]
    }
   ],
   "source": [
    "try:\n",
    "    index=int(input(\"Enter the index\"))\n",
    "    list1=['a','b','c']\n",
    "    print(list1[index])\n",
    "except IndexError:\n",
    "    print(\"Maximum index of list1 is\",len(list1)-1)"
   ]
  },
  {
   "cell_type": "markdown",
   "metadata": {},
   "source": [
    "## ELse block in try except\n",
    "- Else block executed when exceptions are not generated using this "
   ]
  },
  {
   "cell_type": "code",
   "execution_count": 19,
   "metadata": {},
   "outputs": [
    {
     "name": "stdout",
     "output_type": "stream",
     "text": [
      "Enter the index4\n",
      "Maximum index of list1 is 2\n"
     ]
    }
   ],
   "source": [
    "try:\n",
    "    index=int(input(\"Enter the index\"))\n",
    "    list1=['a','b','c']\n",
    "    print(list1[index])\n",
    "except IndexError:\n",
    "    print(\"Maximum index of list1 is\",len(list1)-1)\n",
    "else:\n",
    "    print(\"program executed without any exceptions\")"
   ]
  },
  {
   "cell_type": "code",
   "execution_count": 22,
   "metadata": {},
   "outputs": [
    {
     "name": "stdout",
     "output_type": "stream",
     "text": [
      "Something went wrong\n"
     ]
    }
   ],
   "source": [
    "try:\n",
    "    print(y)\n",
    "    print(\"Hello\")\n",
    "except:\n",
    "    print(\"Something went wrong\")\n",
    "else:\n",
    "    print(\"Nothing went wrong\")"
   ]
  },
  {
   "cell_type": "markdown",
   "metadata": {},
   "source": [
    "## Write a program that will handle exception for importing unavailable module"
   ]
  },
  {
   "cell_type": "code",
   "execution_count": 23,
   "metadata": {},
   "outputs": [
    {
     "ename": "ModuleNotFoundError",
     "evalue": "No module named 'eaijflf'",
     "output_type": "error",
     "traceback": [
      "\u001b[1;31m---------------------------------------------------------------------------\u001b[0m",
      "\u001b[1;31mModuleNotFoundError\u001b[0m                       Traceback (most recent call last)",
      "\u001b[1;32m<ipython-input-23-f380091be17c>\u001b[0m in \u001b[0;36m<module>\u001b[1;34m\u001b[0m\n\u001b[1;32m----> 1\u001b[1;33m \u001b[1;32mimport\u001b[0m \u001b[0meaijflf\u001b[0m\u001b[1;33m\u001b[0m\u001b[1;33m\u001b[0m\u001b[0m\n\u001b[0m",
      "\u001b[1;31mModuleNotFoundError\u001b[0m: No module named 'eaijflf'"
     ]
    }
   ],
   "source": [
    "import eaijflf"
   ]
  },
  {
   "cell_type": "code",
   "execution_count": 25,
   "metadata": {},
   "outputs": [
    {
     "name": "stdout",
     "output_type": "stream",
     "text": [
      "Such module is not available in python\n"
     ]
    }
   ],
   "source": [
    "try:\n",
    "    import hvhzvzjxv\n",
    "except ModuleNotFoundError:\n",
    "    print(\"Such module is not available in python\")"
   ]
  },
  {
   "cell_type": "markdown",
   "metadata": {},
   "source": [
    "### Finally Keyword"
   ]
  },
  {
   "cell_type": "code",
   "execution_count": 35,
   "metadata": {},
   "outputs": [],
   "source": [
    "try:\n",
    "    f=open(\"demo.txt\",\"w\")\n",
    "    f.write(\"I like python\")\n",
    "except FileNotFoundError:\n",
    "    print(\"This is not present in that place\")\n",
    "finally:\n",
    "    f.close\n",
    "    "
   ]
  },
  {
   "cell_type": "markdown",
   "metadata": {},
   "source": [
    "### Write a program to handle divide by zero error\n"
   ]
  },
  {
   "cell_type": "code",
   "execution_count": 5,
   "metadata": {},
   "outputs": [
    {
     "name": "stdout",
     "output_type": "stream",
     "text": [
      "Enter number11\n",
      "Enter number20\n",
      "Number cant be divisible by zero\n",
      "Program execution finished\n"
     ]
    }
   ],
   "source": [
    "def main():\n",
    "    try:\n",
    "        num1=int(input(\"Enter number1\"))\n",
    "        num2=int(input(\"Enter number2\"))\n",
    "        res=num1/num2\n",
    "        print(\"Result=\",res)\n",
    "    except TypeError:\n",
    "        print(\"Both number should have same type(int)\")\n",
    "    except ZeroDivisionError:\n",
    "        print(\"Number cant be divisible by zero\")\n",
    "    else:\n",
    "        print(\"Not generated exception\")\n",
    "    finally:\n",
    "        print(\"Program execution finished\")\n",
    "if __name__=='__main__':\n",
    "    main()"
   ]
  },
  {
   "cell_type": "markdown",
   "metadata": {},
   "source": [
    "## Raise Keyword in Exception"
   ]
  },
  {
   "cell_type": "code",
   "execution_count": null,
   "metadata": {},
   "outputs": [],
   "source": [
    "y=50\n",
    "while(y>=50):\n",
    "    print(y)\n",
    "    y=y-1"
   ]
  },
  {
   "cell_type": "code",
   "execution_count": null,
   "metadata": {},
   "outputs": [],
   "source": [
    "- Example 2"
   ]
  },
  {
   "cell_type": "code",
   "execution_count": 11,
   "metadata": {},
   "outputs": [
    {
     "name": "stdout",
     "output_type": "stream",
     "text": [
      "Kavya is valid name\n"
     ]
    }
   ],
   "source": [
    "name=\"Kavya\"\n",
    "if type(name) is str:\n",
    "    print(name,\"is valid name\")\n",
    "else:\n",
    "    raise Expection(\"Name is not string\")"
   ]
  },
  {
   "cell_type": "markdown",
   "metadata": {},
   "source": [
    "#### Summary"
   ]
  },
  {
   "cell_type": "markdown",
   "metadata": {},
   "source": [
    "- If we feel exception is going to be generate in set of statements ,include all those statements iin 'try' block\n",
    "- If exception is going to generate in 'try' block,handle that exception in 'except' block\n",
    "- 'else' block is going to execute when exception is not going to genrate for code written in 'try' block\n",
    "- 'finally' is always executing irrespective of exception(use for close the connection,resources,files)\n",
    "- 'raise' keyword is used to generate manual exception for specific condition"
   ]
  },
  {
   "cell_type": "code",
   "execution_count": null,
   "metadata": {},
   "outputs": [],
   "source": []
  }
 ],
 "metadata": {
  "kernelspec": {
   "display_name": "Python 3",
   "language": "python",
   "name": "python3"
  },
  "language_info": {
   "codemirror_mode": {
    "name": "ipython",
    "version": 3
   },
   "file_extension": ".py",
   "mimetype": "text/x-python",
   "name": "python",
   "nbconvert_exporter": "python",
   "pygments_lexer": "ipython3",
   "version": "3.7.4"
  }
 },
 "nbformat": 4,
 "nbformat_minor": 2
}
