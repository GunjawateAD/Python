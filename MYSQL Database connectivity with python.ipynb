{
 "cells": [
  {
   "cell_type": "markdown",
   "metadata": {},
   "source": [
    "### To connect Mysql with python driver is needed that driver name is mysql-connector"
   ]
  },
  {
   "cell_type": "code",
   "execution_count": null,
   "metadata": {},
   "outputs": [],
   "source": [
    "# Install mysql driver -> Mysql connector"
   ]
  },
  {
   "cell_type": "code",
   "execution_count": 1,
   "metadata": {},
   "outputs": [
    {
     "name": "stdout",
     "output_type": "stream",
     "text": [
      "Collecting mysql-connector\n",
      "  Downloading https://files.pythonhosted.org/packages/28/04/e40098f3730e75bbe36a338926f566ea803550a34fb50535499f4fc4787a/mysql-connector-2.2.9.tar.gz (11.9MB)\n",
      "Building wheels for collected packages: mysql-connector\n",
      "  Building wheel for mysql-connector (setup.py): started\n",
      "  Building wheel for mysql-connector (setup.py): finished with status 'done'\n",
      "  Created wheel for mysql-connector: filename=mysql_connector-2.2.9-cp37-cp37m-win_amd64.whl size=247951 sha256=9edac961aa1c8c644c1a0a744e36dca2840505618de8f8f8c69d6ee898efdf1a\n",
      "  Stored in directory: C:\\Users\\Avya\\AppData\\Local\\pip\\Cache\\wheels\\8c\\83\\a1\\f8b6d4bb1bd6208bbde1608bbfa7557504bed9eaf2ecf8c175\n",
      "Successfully built mysql-connector\n",
      "Installing collected packages: mysql-connector\n",
      "Successfully installed mysql-connector-2.2.9\n",
      "Note: you may need to restart the kernel to use updated packages.\n"
     ]
    }
   ],
   "source": [
    "pip install mysql-connector"
   ]
  },
  {
   "cell_type": "code",
   "execution_count": 2,
   "metadata": {},
   "outputs": [],
   "source": [
    "# Test it is install or not\n",
    "import mysql.connector"
   ]
  },
  {
   "cell_type": "code",
   "execution_count": 11,
   "metadata": {},
   "outputs": [],
   "source": [
    "# Create connection\n",
    "\n",
    "mydb=mysql.connector.connect(\n",
    "host=\"localhost\",\n",
    "user=\"root\",\n",
    "passwd=\"\",\n",
    ")"
   ]
  },
  {
   "cell_type": "code",
   "execution_count": 12,
   "metadata": {},
   "outputs": [
    {
     "name": "stdout",
     "output_type": "stream",
     "text": [
      "<mysql.connector.connection.MySQLConnection object at 0x000002C804F7B788>\n"
     ]
    }
   ],
   "source": [
    "print(mydb)"
   ]
  },
  {
   "cell_type": "code",
   "execution_count": 13,
   "metadata": {},
   "outputs": [
    {
     "name": "stdout",
     "output_type": "stream",
     "text": [
      "('information_schema',)\n",
      "('mysql',)\n",
      "('performance_schema',)\n",
      "('test',)\n"
     ]
    }
   ],
   "source": [
    "# First create cursor to hold data execute query\n",
    "mycursor = mydb.cursor()\n",
    "mycursor.execute(\"SHOW DATABASES\")\n",
    "for x in mycursor:\n",
    "    print(x)"
   ]
  },
  {
   "cell_type": "code",
   "execution_count": 14,
   "metadata": {},
   "outputs": [],
   "source": [
    "# Create Database named empDB\n",
    "mycursor.execute(\"create DATABASE empDB\")"
   ]
  },
  {
   "cell_type": "code",
   "execution_count": 16,
   "metadata": {},
   "outputs": [
    {
     "name": "stdout",
     "output_type": "stream",
     "text": [
      "('empdb',)\n",
      "('information_schema',)\n",
      "('mysql',)\n",
      "('performance_schema',)\n",
      "('test',)\n"
     ]
    }
   ],
   "source": [
    "# Show all databases \n",
    "mycursor.execute(\"SHOW DATABASES\")\n",
    "for x in mycursor:\n",
    "    print(x)"
   ]
  },
  {
   "cell_type": "code",
   "execution_count": 31,
   "metadata": {},
   "outputs": [],
   "source": [
    "# Create connection for particualr database\n",
    "\n",
    "mydb1=mysql.connector.connect(\n",
    "host=\"localhost\",\n",
    "user=\"root\",\n",
    "passwd=\"\",\n",
    "database=\"empdb\"\n",
    ")"
   ]
  },
  {
   "cell_type": "code",
   "execution_count": 32,
   "metadata": {},
   "outputs": [],
   "source": [
    "mycursor1=mydb1.cursor()"
   ]
  },
  {
   "cell_type": "code",
   "execution_count": 33,
   "metadata": {},
   "outputs": [
    {
     "name": "stdout",
     "output_type": "stream",
     "text": [
      "('emptable',)\n"
     ]
    }
   ],
   "source": [
    "# SHow all table in empdb database;\n",
    "mycursor1.execute(\"show tables\")\n",
    "for x in mycursor1:\n",
    "    print(x)"
   ]
  },
  {
   "cell_type": "code",
   "execution_count": 21,
   "metadata": {},
   "outputs": [],
   "source": [
    "# Create table emptable with three column empID,empName,empAge\n",
    "mycursor1.execute(\"create table emptable(empID int PRIMARY KEY,empName varchar(20),empAge int)\")"
   ]
  },
  {
   "cell_type": "code",
   "execution_count": 34,
   "metadata": {},
   "outputs": [],
   "source": [
    "# See the data from table\n",
    "mycursor1.execute(\"select * from emptable\")\n",
    "result=mycursor1.fetchall()\n",
    "for x in result:\n",
    "    print(x)"
   ]
  },
  {
   "cell_type": "code",
   "execution_count": 36,
   "metadata": {},
   "outputs": [],
   "source": [
    "# How to insert data into table\n",
    "query =  \"Insert Into emptable Values (101,'yogesh',22)\"\n",
    "mycursor1.execute(query)\n",
    "mydb.commit()"
   ]
  },
  {
   "cell_type": "code",
   "execution_count": 37,
   "metadata": {},
   "outputs": [
    {
     "name": "stdout",
     "output_type": "stream",
     "text": [
      "(102, 'avishkar', 22)\n",
      "(101, 'yogesh', 22)\n"
     ]
    }
   ],
   "source": [
    "# See the data from table\n",
    "mycursor1.execute(\"select * from emptable\")\n",
    "result=mycursor1.fetchall()\n",
    "for x in result:\n",
    "    print(x)"
   ]
  },
  {
   "cell_type": "code",
   "execution_count": 38,
   "metadata": {},
   "outputs": [],
   "source": [
    "# How to insert multiple record\n",
    "\n",
    "query1 =  \"Insert Into emptable Values (103,'yogesh',22)\"\n",
    "query2 =  \"Insert Into emptable Values (104,'yosh',22)\"\n",
    "query3 =  \"Insert Into emptable Values (105,'yoge',22)\"\n",
    "query4 =  \"Insert Into emptable Values (106,'yosh',22)\"\n",
    "query5 =  \"Insert Into emptable Values (107,'gesh',22)\"\n",
    "query6 =  \"Insert Into emptable Values (108,'yogh',22)\"\n",
    "query7 =  \"Insert Into emptable Values (109,'esh',22)\"\n",
    "mycursor1.execute(query1)\n",
    "mycursor1.execute(query2)\n",
    "mycursor1.execute(query3)\n",
    "mycursor1.execute(query4)\n",
    "mycursor1.execute(query5)\n",
    "mycursor1.execute(query6)\n",
    "mycursor1.execute(query7)\n",
    "mydb.commit()"
   ]
  },
  {
   "cell_type": "code",
   "execution_count": 39,
   "metadata": {},
   "outputs": [
    {
     "name": "stdout",
     "output_type": "stream",
     "text": [
      "(102, 'avishkar', 22)\n",
      "(101, 'yogesh', 22)\n",
      "(103, 'yogesh', 22)\n",
      "(104, 'yosh', 22)\n",
      "(105, 'yoge', 22)\n",
      "(106, 'yosh', 22)\n",
      "(107, 'gesh', 22)\n",
      "(108, 'yogh', 22)\n",
      "(109, 'esh', 22)\n"
     ]
    }
   ],
   "source": [
    "mycursor1.execute(\"select * from emptable\")\n",
    "result=mycursor1.fetchall()\n",
    "for x in result:\n",
    "    print(x)"
   ]
  },
  {
   "cell_type": "code",
   "execution_count": 40,
   "metadata": {},
   "outputs": [
    {
     "name": "stdout",
     "output_type": "stream",
     "text": [
      "(102, 'avishkar', 22)\n",
      "(101, 'yogesh', 22)\n",
      "(103, 'yogesh', 22)\n",
      "(104, 'yosh', 22)\n",
      "(105, 'yoge', 22)\n",
      "(106, 'yosh', 22)\n",
      "(107, 'gesh', 22)\n",
      "(108, 'yogh', 22)\n",
      "(109, 'esh', 22)\n"
     ]
    }
   ],
   "source": [
    "# Delete record from emptable\n",
    "\n",
    "mycursor1.execute(\"select * from emptable\")\n",
    "result=mycursor1.fetchall()\n",
    "for x in result:\n",
    "    print(x)"
   ]
  },
  {
   "cell_type": "code",
   "execution_count": null,
   "metadata": {},
   "outputs": [],
   "source": []
  }
 ],
 "metadata": {
  "kernelspec": {
   "display_name": "Python 3",
   "language": "python",
   "name": "python3"
  },
  "language_info": {
   "codemirror_mode": {
    "name": "ipython",
    "version": 3
   },
   "file_extension": ".py",
   "mimetype": "text/x-python",
   "name": "python",
   "nbconvert_exporter": "python",
   "pygments_lexer": "ipython3",
   "version": "3.7.4"
  }
 },
 "nbformat": 4,
 "nbformat_minor": 2
}
