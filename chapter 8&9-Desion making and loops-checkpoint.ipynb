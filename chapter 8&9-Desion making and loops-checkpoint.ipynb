{
 "cells": [
  {
   "cell_type": "markdown",
   "metadata": {},
   "source": [
    "# IF block"
   ]
  },
  {
   "cell_type": "code",
   "execution_count": 7,
   "metadata": {},
   "outputs": [
    {
     "name": "stdout",
     "output_type": "stream",
     "text": [
      "Enter the CIBIL Score:500\n",
      "you are not eligible for loan\n"
     ]
    }
   ],
   "source": [
    "cibil=int(input(\"Enter the CIBIL Score:\"))\n",
    "if(cibil>700):\n",
    "    print(\"you are eligible for loan\")\n",
    "else:\n",
    "    print(\"you are not eligible for loan\")\n",
    "    "
   ]
  },
  {
   "cell_type": "code",
   "execution_count": 19,
   "metadata": {},
   "outputs": [
    {
     "name": "stdout",
     "output_type": "stream",
     "text": [
      "Enter number:9\n",
      "Not prime\n"
     ]
    }
   ],
   "source": [
    "x=int(input(\"Enter number:\"))\n",
    "if(x>1):\n",
    "    66\n",
    "    \n",
    "    for i in range(2,x):\n",
    "        if(x%i)== 0:\n",
    "            print(\"Not prime\")\n",
    "            break\n",
    "    else:\n",
    "            print(\"prime\")\n",
    "else:\n",
    "    print(\"Not prime\")"
   ]
  },
  {
   "cell_type": "code",
   "execution_count": 3,
   "metadata": {},
   "outputs": [
    {
     "name": "stdout",
     "output_type": "stream",
     "text": [
      "Enter cibil score800\n",
      "Enter salary55000\n",
      "Enter assets20\n",
      "loan granted\n"
     ]
    }
   ],
   "source": [
    "# nested if else\n",
    "cibil=int(input(\"Enter cibil score\"))\n",
    "salary=int(input(\"Enter salary\"))\n",
    "assets=int(input(\"Enter assets\"))\n",
    "if cibil>=700:\n",
    "    if salary>=50000:\n",
    "        print(\"loan granted\")\n",
    "    else:\n",
    "        print(\"forward application to BM\")\n",
    "else:\n",
    "    if assets>=100000:\n",
    "        print(\"forward application to BM\")\n",
    "    else:\n",
    "        print(\"not eligible for loan\")"
   ]
  },
  {
   "cell_type": "markdown",
   "metadata": {},
   "source": [
    "# if elif ladder\n",
    "- if we have more than 2 conditions,we have if elif else ladder\n",
    "- Write a pytho program for Dish TV repairing Servise,ask user his name,\n",
    "  his dishTV manufacturer name and type of problem"
   ]
  },
  {
   "cell_type": "code",
   "execution_count": 14,
   "metadata": {},
   "outputs": [
    {
     "name": "stdout",
     "output_type": "stream",
     "text": [
      "****************************************************\n",
      "Welcome to swami vivekanand Dish TV repairing centre\n",
      "****************************************************\n",
      "press any key to continue\n",
      "a\n",
      "Enter your name:\n",
      "Avishkar\n",
      "-----------------------------------------------------\n",
      "Welcome Avishkar How may i assist you\n",
      "please enter your Service provider namevodafone\n",
      "Welcome to vodafone\n",
      "Enter Customer ID213786\n",
      "Please wait..... we are cheking the problem for 213786\n"
     ]
    }
   ],
   "source": [
    "print(\"****************************************************\")\n",
    "print(\"Welcome to swami vivekanand Dish TV repairing centre\")\n",
    "print(\"****************************************************\")\n",
    "print(\"press any key to continue\")\n",
    "input();\n",
    "print(\"Enter your name:\")\n",
    "cust_name=input();\n",
    "print(\"-----------------------------------------------------\")\n",
    "print(\"Welcome\",cust_name,\"How may i assist you\")\n",
    "dsp_name=input(\"please enter your Service provider name\")\n",
    "if dsp_name==\"airtel\":\n",
    "    print(\"Welcome to airtel\")\n",
    "    cust_id=int(input(\"Enter Customer ID\"))\n",
    "    print(\"Please wait..... we are cheking the problem for\",cust_id)\n",
    "elif dsp_name==\"tatasky\":\n",
    "    print(\"Welcome to Tata SKY\")\n",
    "    cust_id=int(input(\"Enter Customer ID\"))\n",
    "    print(\"Please wait..... we are cheking the problem for\",cust_id)\n",
    "elif dsp_name==\"dishtv\":\n",
    "    print(\"Welcome to DISHTV\")\n",
    "    cust_id=int(input(\"Enter Customer ID\"))\n",
    "    print(\"Please wait..... we are cheking the problem for\",cust_id)\n",
    "elif dsp_name==\"vodafone\":\n",
    "    print(\"Welcome to vodafone\")\n",
    "    cust_id=int(input(\"Enter Customer ID\"))\n",
    "    print(\"Please wait..... we are cheking the problem for\",cust_id)\n",
    "elif dsp_name==\"localnetwork\":\n",
    "    print(\"Welcome to Locl Network\")\n",
    "    cust_id=int(input(\"Enter Customer ID\"))\n",
    "    print(\"Please wait..... we are cheking the problem for\",cust_id)\n",
    "else:\n",
    "    print(\"Welcome to JIO\")\n",
    "    cust_id=int(input(\"Enter Customer ID\"))\n",
    "    print(\"Please wait..... we are cheking the problem for\",cust_id)"
   ]
  },
  {
   "cell_type": "code",
   "execution_count": 15,
   "metadata": {},
   "outputs": [],
   "source": [
    "# Write a python program tp accept input from user and print its datatype"
   ]
  },
  {
   "cell_type": "code",
   "execution_count": 33,
   "metadata": {},
   "outputs": [
    {
     "name": "stdout",
     "output_type": "stream",
     "text": [
      "These value is of boolean type\n"
     ]
    }
   ],
   "source": [
    "value=False\n",
    "\n",
    "if type(value)==bool:\n",
    "    print(\"These value is of boolean type\")\n",
    "elif type(value)==int:\n",
    "    print(\"These value is of integer type\")\n",
    "elif type(value)==float:\n",
    "    print(\"These value is of float type\")\n",
    "elif type(value)==str:\n",
    "    print(\"These value is of string type\")\n",
    "elif type(value)==complex:\n",
    "    print(\"These value is of complex type\")\n",
    "else:\n",
    "    print(\"Unknown type\")"
   ]
  },
  {
   "cell_type": "code",
   "execution_count": 34,
   "metadata": {},
   "outputs": [
    {
     "name": "stdout",
     "output_type": "stream",
     "text": [
      "b'\\xff\\xfeh\\x00i\\x00 \\x00h\\x00o\\x00e\\x00 \\x00a\\x00r\\x00e\\x00 \\x00y\\x00o\\x00u\\x00'\n"
     ]
    }
   ],
   "source": [
    "str2=\"hi hoe are you\"\n",
    "arr=bytes(str2,'utf-16')\n",
    "print(arr)"
   ]
  },
  {
   "cell_type": "markdown",
   "metadata": {},
   "source": [
    "# Loops\n",
    "- In python we have 2 primitive loop \n",
    "- Loops are used to execute set of statement specified number of times\n",
    "1. For loop\n",
    "2. while\n"
   ]
  },
  {
   "cell_type": "markdown",
   "metadata": {},
   "source": [
    "# For Loop\n",
    "- For loop is used to itrerate bunch of statements\n",
    "- For can be used to iterate element from list,tuple,ditionary and other objects\n"
   ]
  },
  {
   "cell_type": "code",
   "execution_count": 35,
   "metadata": {},
   "outputs": [],
   "source": [
    "student_list=[\"yogesh\",\"prathmesh\",\"avishkar\",\"ankita\",\"pankaj\"]"
   ]
  },
  {
   "cell_type": "code",
   "execution_count": 39,
   "metadata": {},
   "outputs": [
    {
     "name": "stdout",
     "output_type": "stream",
     "text": [
      "yogesh\n",
      "prathmesh\n",
      "avishkar\n",
      "ankita\n",
      "pankaj\n"
     ]
    }
   ],
   "source": [
    "\"\"\"\n",
    "Syntax of for loop\n",
    "for variable_name in object_name:\n",
    "    print(variable_name)\n",
    "\"\"\"\n",
    "\n",
    "for i in student_list:\n",
    "    print(i)"
   ]
  },
  {
   "cell_type": "code",
   "execution_count": 40,
   "metadata": {},
   "outputs": [
    {
     "name": "stdout",
     "output_type": "stream",
     "text": [
      "yogesh prathmesh avishkar ankita pankaj "
     ]
    }
   ],
   "source": [
    "for name in student_list:\n",
    "    print(name,end=\" \")"
   ]
  },
  {
   "cell_type": "code",
   "execution_count": 4,
   "metadata": {},
   "outputs": [
    {
     "name": "stdout",
     "output_type": "stream",
     "text": [
      "yogesh\n",
      "prathmesh\n",
      "avishkar\n"
     ]
    }
   ],
   "source": [
    "student_list=[\"yogesh\",\"prathmesh\",\"avishkar\",\"ankita\",\"pankaj\"]\n",
    "for i in student_list:\n",
    "    print(i)\n",
    "    if i==\"avishkar\":\n",
    "        break\n",
    "        "
   ]
  },
  {
   "cell_type": "code",
   "execution_count": 5,
   "metadata": {},
   "outputs": [
    {
     "name": "stdout",
     "output_type": "stream",
     "text": [
      "yogesh\n",
      "prathmesh\n"
     ]
    }
   ],
   "source": [
    "# How to use Break in loop\n",
    "# Break is to come out from loop\n",
    "for i in student_list:\n",
    "    if i==\"avishkar\":\n",
    "        break\n",
    "    print(i)\n"
   ]
  },
  {
   "cell_type": "code",
   "execution_count": 7,
   "metadata": {},
   "outputs": [
    {
     "name": "stdout",
     "output_type": "stream",
     "text": [
      "yogesh\n",
      "prathmesh\n",
      "ankita\n",
      "pankaj\n"
     ]
    }
   ],
   "source": [
    "# how to use continue keyword in for loop\n",
    "# Continue is to skip current iteration and execute all next iteration\n",
    "\n",
    "student_list=[\"yogesh\",\"prathmesh\",\"avishkar\",\"ankita\",\"pankaj\"]\n",
    "for i in student_list:\n",
    "    if i==\"avishkar\":\n",
    "        continue\n",
    "    print(i)\n",
    "   "
   ]
  },
  {
   "cell_type": "code",
   "execution_count": 8,
   "metadata": {},
   "outputs": [
    {
     "name": "stdout",
     "output_type": "stream",
     "text": [
      "yogesh\n",
      "ankita\n",
      "pankaj\n"
     ]
    }
   ],
   "source": [
    "for i in student_list:\n",
    "    if (i==\"avishkar\" or i==\"prathmesh\"):\n",
    "        continue\n",
    "    print(i)"
   ]
  },
  {
   "cell_type": "markdown",
   "metadata": {},
   "source": [
    "### pass keyword"
   ]
  },
  {
   "cell_type": "code",
   "execution_count": 11,
   "metadata": {},
   "outputs": [],
   "source": [
    "# pass is used to do nothing\n",
    "# we can write pass to specify loop has to do nathing\n",
    "for i in student_list:\n",
    "    pass\n"
   ]
  },
  {
   "cell_type": "markdown",
   "metadata": {},
   "source": [
    "### Range function in for loop"
   ]
  },
  {
   "cell_type": "code",
   "execution_count": 14,
   "metadata": {},
   "outputs": [
    {
     "name": "stdout",
     "output_type": "stream",
     "text": [
      "Hello\n",
      "Hello\n",
      "Hello\n",
      "Hello\n",
      "Hello\n",
      "Hello\n",
      "Hello\n",
      "Hello\n",
      "Hello\n",
      "Hello\n"
     ]
    }
   ],
   "source": [
    "# print \"Hello\" 10 times\n",
    "for i in range(10):\n",
    "    print(\"Hello\")\n"
   ]
  },
  {
   "cell_type": "code",
   "execution_count": 16,
   "metadata": {},
   "outputs": [
    {
     "name": "stdout",
     "output_type": "stream",
     "text": [
      "0 1 2 3 4 5 6 7 8 9 10 11 12 13 14 15 16 17 18 19 20 21 22 23 24 25 26 27 28 29 30 31 32 33 34 35 36 37 38 39 40 41 42 43 44 45 46 47 48 49 50 51 52 53 54 55 56 57 58 59 60 61 62 63 64 65 66 67 68 69 70 71 72 73 74 75 76 77 78 79 80 81 82 83 84 85 86 87 88 89 90 91 92 93 94 95 96 97 98 99 "
     ]
    }
   ],
   "source": [
    "# print 1 to 1000 number\n",
    "for i in range(100):\n",
    "    print(i,end=\" \")\n"
   ]
  },
  {
   "cell_type": "code",
   "execution_count": 17,
   "metadata": {},
   "outputs": [
    {
     "name": "stdout",
     "output_type": "stream",
     "text": [
      "51 52 53 54 55 56 57 58 59 60 61 62 63 64 65 66 67 68 69 70 "
     ]
    }
   ],
   "source": [
    "# print 5 to 70 number\n",
    "for i in range(51,71):\n",
    "    print(i,end=\" \")"
   ]
  },
  {
   "cell_type": "code",
   "execution_count": 18,
   "metadata": {},
   "outputs": [
    {
     "name": "stdout",
     "output_type": "stream",
     "text": [
      "51 54 57 60 63 66 69 "
     ]
    }
   ],
   "source": [
    "#print 51 to 71 in multiple of 3\n",
    "for i in range(51,71,3):\n",
    "    print(i,end=\" \")"
   ]
  },
  {
   "cell_type": "code",
   "execution_count": 19,
   "metadata": {},
   "outputs": [
    {
     "name": "stdout",
     "output_type": "stream",
     "text": [
      "350 345 340 335 330 325 320 315 310 305 300 295 290 285 280 275 270 265 260 255 "
     ]
    }
   ],
   "source": [
    "# print 350 to250 number in multiple of 5\n",
    "for i in range(350,250,-5):\n",
    "    print(i,end=\" \")"
   ]
  },
  {
   "cell_type": "code",
   "execution_count": 20,
   "metadata": {},
   "outputs": [
    {
     "name": "stdout",
     "output_type": "stream",
     "text": [
      "701 703 705 707 709 711 713 715 717 719 721 723 725 727 729 731 733 735 737 739 741 743 745 747 749 751 753 755 757 759 761 763 765 767 769 771 773 775 777 779 781 783 785 787 789 791 793 795 797 799 "
     ]
    }
   ],
   "source": [
    "# print odd number from 700 to 800\n",
    "for i in range(700,800):\n",
    "    if i%2==1: \n",
    "        print(i,end=\" \")"
   ]
  },
  {
   "cell_type": "code",
   "execution_count": 23,
   "metadata": {},
   "outputs": [
    {
     "name": "stdout",
     "output_type": "stream",
     "text": [
      "63 126 189 252 315 378 441 "
     ]
    }
   ],
   "source": [
    "# print nuber from 1 to 500 which are multiple of 7&9 both\n",
    "for i in range(1,500):\n",
    "    if(i%7==0 and i%9==0):\n",
    "        print(i,end=\" \")"
   ]
  },
  {
   "cell_type": "code",
   "execution_count": 24,
   "metadata": {},
   "outputs": [
    {
     "name": "stdout",
     "output_type": "stream",
     "text": [
      "7 9 14 18 21 27 28 35 36 42 45 49 54 56 63 70 72 77 81 84 90 91 98 99 105 108 112 117 119 126 133 135 140 144 147 153 154 161 162 168 171 175 180 182 189 196 198 203 207 210 216 217 224 225 231 234 238 243 245 252 259 261 266 270 273 279 280 287 288 294 297 301 306 308 315 322 324 329 333 336 342 343 350 351 357 360 364 369 371 378 385 387 392 396 399 405 406 413 414 420 423 427 432 434 441 448 450 455 459 462 468 469 476 477 483 486 490 495 497 "
     ]
    }
   ],
   "source": [
    "# print nuber from 1 to 500 which are multiple of 7or9 both\n",
    "for i in range(1,500):\n",
    "    if(i%7==0 or i%9==0):\n",
    "        print(i,end=\" \")"
   ]
  },
  {
   "cell_type": "markdown",
   "metadata": {},
   "source": [
    "### nested for"
   ]
  },
  {
   "cell_type": "code",
   "execution_count": 4,
   "metadata": {},
   "outputs": [
    {
     "name": "stdout",
     "output_type": "stream",
     "text": [
      "c -> yogesh\n",
      "c -> prathmesh\n",
      "c -> mama\n",
      "c -> sanjay\n",
      "c -> avya\n",
      " \n",
      "java -> yogesh\n",
      "java -> prathmesh\n",
      "java -> mama\n",
      "java -> sanjay\n",
      "java -> avya\n",
      " \n",
      "python -> yogesh\n",
      "python -> prathmesh\n",
      "python -> mama\n",
      "python -> sanjay\n",
      "python -> avya\n",
      " \n",
      "pascale -> yogesh\n",
      "pascale -> prathmesh\n",
      "pascale -> mama\n",
      "pascale -> sanjay\n",
      "pascale -> avya\n",
      " \n"
     ]
    }
   ],
   "source": [
    "# Find cartesian product of following\n",
    "list1=[\"c\",\"java\",\"python\",\"pascale\"]\n",
    "list2=[\"yogesh\",\"prathmesh\",\"mama\",\"sanjay\",\"avya\"]\n",
    "\n",
    "for i in list1:\n",
    "    for j in list2:\n",
    "        print(i,\"->\",j)\n",
    "    print(\" \")"
   ]
  },
  {
   "cell_type": "markdown",
   "metadata": {},
   "source": [
    "### else in for loop"
   ]
  },
  {
   "cell_type": "code",
   "execution_count": null,
   "metadata": {},
   "outputs": [],
   "source": [
    "# how to use else in for loop\n",
    "list1=[\"c\",\"java\",\"python\",\"pascale\"]\n",
    "list2=[\"yogesh\",\"prathmesh\",\"mama\",\"sanjay\",\"avya\"]\n",
    "\n",
    "for i in list1:\n",
    "    for j in list2:\n",
    "        print(i,\"->\",j)\n",
    "    print(\" \")\n",
    "else:\n",
    "    print(\"Finally sumbject allotement is done........\")"
   ]
  },
  {
   "cell_type": "markdown",
   "metadata": {},
   "source": [
    "# While loop in python"
   ]
  },
  {
   "cell_type": "code",
   "execution_count": 7,
   "metadata": {},
   "outputs": [
    {
     "data": {
      "text/plain": [
       "'\\nvariable_initialization\\nwhile condition:\\n    body_of_while\\n    increment/decrement\\n'"
      ]
     },
     "execution_count": 7,
     "metadata": {},
     "output_type": "execute_result"
    }
   ],
   "source": [
    "# Syntax of while\n",
    "\n",
    "\"\"\"\n",
    "variable_initialization\n",
    "while condition:\n",
    "    body_of_while\n",
    "    increment/decrement\n",
    "\"\"\""
   ]
  },
  {
   "cell_type": "code",
   "execution_count": 12,
   "metadata": {},
   "outputs": [
    {
     "name": "stdout",
     "output_type": "stream",
     "text": [
      "1\n",
      "2\n",
      "3\n",
      "4\n",
      "5\n",
      "6\n",
      "7\n",
      "8\n",
      "9\n",
      "10\n"
     ]
    }
   ],
   "source": [
    "# print 1 to 10 number\n",
    "i=1\n",
    "while i<=10:\n",
    "    print(i)\n",
    "    i=i+1\n",
    "    "
   ]
  },
  {
   "cell_type": "code",
   "execution_count": 9,
   "metadata": {},
   "outputs": [
    {
     "name": "stdout",
     "output_type": "stream",
     "text": [
      "21 22 23 24 26 27 28 29 31 32 33 34 36 37 38 39 41 42 43 44 46 47 48 49 51 52 53 54 56 57 58 59 61 62 63 64 66 67 68 69 71 72 73 74 76 77 78 79 81 82 83 84 86 87 88 89 91 92 93 94 96 97 98 99 \n",
      "\n",
      "\n",
      "list1 is: [21, 22, 23, 24, 26, 27, 28, 29, 31, 32, 33, 34, 36, 37, 38, 39, 41, 42, 43, 44, 46, 47, 48, 49, 51, 52, 53, 54, 56, 57, 58, 59, 61, 62, 63, 64, 66, 67, 68, 69, 71, 72, 73, 74, 76, 77, 78, 79, 81, 82, 83, 84, 86, 87, 88, 89, 91, 92, 93, 94, 96, 97, 98, 99]\n",
      "TOtal number in list are: 64\n"
     ]
    }
   ],
   "source": [
    "# print 20 to 100 not in multiple of 5\n",
    "i=20\n",
    "list1=[]\n",
    "while i<=100:\n",
    "    if i%5!=0:\n",
    "        \n",
    "        print(i,end=\" \")\n",
    "        list1.append(i)\n",
    "    i=i+1\n",
    "print(\"\\n\\n\")\n",
    "print(\"list1 is:\",list1)\n",
    "print(\"TOtal number in list are:\",len(list1))\n"
   ]
  },
  {
   "cell_type": "code",
   "execution_count": 10,
   "metadata": {},
   "outputs": [
    {
     "name": "stdout",
     "output_type": "stream",
     "text": [
      "21 22 23 24 26 27 28 29 31 32 33 34 36 37 38 39 41 42 43 44 46 47 48 49 51 52 53 54 56 \n",
      "\n",
      "\n",
      "list1 is: [21, 22, 23, 24, 26, 27, 28, 29, 31, 32, 33, 34, 36, 37, 38, 39, 41, 42, 43, 44, 46, 47, 48, 49, 51, 52, 53, 54, 56]\n",
      "TOtal number in list are: 29\n"
     ]
    }
   ],
   "source": [
    "i=20\n",
    "list1=[]\n",
    "while i<=100:\n",
    "    if i%5!=0:\n",
    "        if i==57:\n",
    "            break\n",
    "        print(i,end=\" \")\n",
    "        list1.append(i)\n",
    "    i=i+1\n",
    "print(\"\\n\\n\")\n",
    "print(\"list1 is:\",list1)\n",
    "print(\"TOtal number in list are:\",len(list1))\n"
   ]
  },
  {
   "cell_type": "code",
   "execution_count": 30,
   "metadata": {},
   "outputs": [
    {
     "name": "stdout",
     "output_type": "stream",
     "text": [
      "21 22 23 24 25 26 28 29 30 31 32 33 34 35 36 38 39 40 41 42 43 44 45 46 48 49 50 51 52 53 54 55 56 57 58 59 60 61 62 63 64 65 66 67 68 69 70 71 72 73 74 75 76 77 78 79 80 81 82 83 84 85 86 87 88 89 90 91 92 93 94 95 96 97 98 99 100 101 "
     ]
    }
   ],
   "source": [
    "# Hoe to use continue in for loop\n",
    "i=20\n",
    "while i<=100:\n",
    "    i=i+1\n",
    "    if i==27 or i==37 or i==47:\n",
    "        continue\n",
    "    print(i,end=\" \")"
   ]
  },
  {
   "cell_type": "code",
   "execution_count": 32,
   "metadata": {},
   "outputs": [
    {
     "name": "stdout",
     "output_type": "stream",
     "text": [
      "21 22 23 24 25 26 28 29 30 31 32 33 34 35 36 38 39 40 41 42 43 44 45 46 48 49 50 51 52 53 54 55 56 57 58 59 60 61 62 63 64 65 66 67 68 69 70 71 72 73 74 75 76 77 78 79 80 81 82 83 84 85 86 87 88 89 90 91 92 93 94 95 96 97 98 99 100 101 \n",
      "value i is greater than 100\n"
     ]
    }
   ],
   "source": [
    "# Hpw to use else in while loop\n",
    "i=20\n",
    "while i<=100:\n",
    "    i=i+1\n",
    "    if i==27 or i==37 or i==47:\n",
    "        continue\n",
    "    print(i,end=\" \")\n",
    "else:\n",
    "    print(\"\\nvalue i is greater than 100\")"
   ]
  },
  {
   "cell_type": "code",
   "execution_count": 2,
   "metadata": {},
   "outputs": [
    {
     "name": "stdout",
     "output_type": "stream",
     "text": [
      "*********************************************\n",
      "-------------Welcome to KBC------------------\n",
      "*********************************************\n",
      "Enter your nameAvya\n",
      "Hello.... Avya Welcome to hot seat..\n",
      "\n",
      "Rules of game:\n",
      "\t1.Total 2 questions\n",
      "\t2.Each will have 50,00,000 Rs\n",
      "\t3.No lifeline\n",
      "Are you ready??.. press any key to continue\n",
      " \n",
      "Your current score is 0\n",
      "Q1. Who is founder of python ?\n",
      "\n",
      "A.Mark Zunkerburg\n",
      "B.Amithabh Bachhan\n",
      "C.Guido van rossum\n",
      "D.Ramdeo Baba\n",
      "Enter your choice:C\n",
      "Congratulations....You have won 50,00,000\n",
      "Are you ready for next question...? Press any key to continue\n",
      " \n",
      "Your current score is 5000000\n",
      " \n",
      "-----------------------------------------------------\n",
      "Q2.Who is CEO of google.?\n",
      "\n",
      "A.Yogesh\n",
      "B.Sundar pichai\n",
      "C.Prathmesh\n",
      "D.Nilesh\n",
      "Enter your choiceB\n",
      "Congratulations ...You won: 10000000\n",
      "Thanks for playing game\n"
     ]
    }
   ],
   "source": [
    "# Design login for KBC which accept user name & password if both are correct allow to login and olay queez if creditnils are wrong login failed\n",
    "\n",
    "print(\"*********************************************\")\n",
    "print(\"-------------Welcome to KBC------------------\")\n",
    "print(\"*********************************************\")\n",
    "print(\"Enter your name\",end=\"\")\n",
    "player_name=input()\n",
    "score=0\n",
    "print(\"Hello....\",player_name,\"Welcome to hot seat..\")\n",
    "print()\n",
    "print(\"Rules of game:\")\n",
    "print(\"\\t1.Total 2 questions\")\n",
    "print(\"\\t2.Each will have 50,00,000 Rs\")\n",
    "print(\"\\t3.No lifeline\")\n",
    "print(\"Are you ready??.. press any key to continue\")\n",
    "input()\n",
    "print(\"Your current score is\",score)\n",
    "print(\"Q1. Who is founder of python ?\")\n",
    "print()\n",
    "print(\"A.Mark Zunkerburg\\nB.Amithabh Bachhan\\nC.Guido van rossum\\nD.Ramdeo Baba\")\n",
    "choice=input(\"Enter your choice:\")\n",
    "if choice==\"C\":\n",
    "    score=score+5000000\n",
    "    print(\"Congratulations....You have won 50,00,000\")\n",
    "    print(\"Are you ready for next question...? Press any key to continue\")\n",
    "    input()\n",
    "    print(\"Your current score is\",score)\n",
    "    input()\n",
    "    print(\"-----------------------------------------------------\")\n",
    "    print(\"Q2.Who is CEO of google.?\")\n",
    "    print()\n",
    "    print(\"A.Yogesh\\nB.Sundar pichai\\nC.Prathmesh\\nD.Nilesh\")\n",
    "    choice=input(\"Enter your choice\")\n",
    "    if choice==\"B\":\n",
    "        score=score+5000000\n",
    "        print(\"Congratulations ...You won:\",score)\n",
    "        print(\"Thanks for playing game\")\n",
    "else:\n",
    "    print(\"Sorry..Wrong attempt\")\n",
    "    print(\"You have to quit game\")\n",
    "    \n",
    "    \n",
    "\n",
    "\n",
    "\n",
    "\n",
    "\n"
   ]
  },
  {
   "cell_type": "code",
   "execution_count": 1,
   "metadata": {},
   "outputs": [
    {
     "name": "stdout",
     "output_type": "stream",
     "text": [
      "****************Welcome to KBC*****************\n",
      "Hii I am amitabh bachaan,what is your name\n",
      "Avya\n",
      "Welcome Avya Welcome to Hot seat\n",
      "Press any key to start game....\n",
      " \n",
      "\n",
      "Rules of Game\n",
      "\n",
      "1.You total 5 Questions\n",
      "2.Eash question has 10,000Rs\n",
      "3.If your answer is wrong then you are out of game\n",
      "Your Current score is= 0\n",
      "\n",
      "\t1.Who is father of indian navy?\n",
      "\n",
      "A.Chatrapati shivaji maharaj\n",
      "B.Chatrapati sambaji maharaj\n",
      "C.Usman Patel\n",
      "D.Sachin tendulkar\n",
      "\tEnter your choice: d\n",
      "Sorry Wrong attempt...\n",
      "Your score is:  0\n",
      "Thank You for playing Game\n"
     ]
    }
   ],
   "source": [
    "print(\"****************Welcome to KBC*****************\")\n",
    "print(\"Hii I am amitabh bachaan,what is your name\")\n",
    "name=input()\n",
    "print(\"Welcome\",name,\"Welcome to Hot seat\")\n",
    "print(\"Press any key to start game....\")\n",
    "input()\n",
    "print(\"\\nRules of Game\")\n",
    "print(\"\\n1.You total 5 Questions\\n2.Eash question has 10,000Rs\\n3.If your answer is wrong then you are out of game\")\n",
    "score=0\n",
    "print(\"Your Current score is=\",score)\n",
    "print(\"\\n\\t1.Who is father of indian navy?\")\n",
    "print(\"\\nA.Chatrapati shivaji maharaj\\nB.Chatrapati sambaji maharaj\\nC.Usman Patel\\nD.Sachin tendulkar\")\n",
    "choice=input(\"\\tEnter your choice: \")\n",
    "if choice==\"A\":\n",
    "    score=score+10000\n",
    "    print(\"\\tCongratulations you won:Rs\",score)\n",
    "    print(\"\\tPress any key to continue....\")\n",
    "    input()\n",
    "    print(\"\\n\\t2.Who is PM of india?\")\n",
    "    print(\"\\nA.Devendra Fadanvis\\nB.Raj Takhre\\nC.Narendra Modi\\nD.Donald Trump\")\n",
    "    choice=input(\"\\tEnter your choice: \")\n",
    "    if choice==\"C\":\n",
    "        score=score+10000\n",
    "        print(\"\\tCongratulations you won:Rs\",score)\n",
    "        print(\"\\tPress any key to continue....\")\n",
    "        input()\n",
    "        print(\"\\n\\t3.Who is captain of india in 2019 worldcup?\")\n",
    "        print(\"\\nA.Rohit sharma\\nB.AB Divilliers\\nC.Usman Patel\\nD.Virat Kohali\")\n",
    "        choice=input(\"\\tEnter your choice: \")\n",
    "        if choice==\"D\":\n",
    "            score=score+10000\n",
    "            print(\"\\tCongratulations you won:Rs\",score)\n",
    "            print(\"\\tPress any key to continue....\")\n",
    "            input()\n",
    "            print(\"\\n\\t4.How much percentage student should get for 1st class?\")\n",
    "            print(\"\\nA.60\\nB.70\\nC.80\\nD.90\")\n",
    "            choice=input(\"\\tEnter your choice: \")\n",
    "            if choice==\"A\":\n",
    "                score=score+10000\n",
    "                print(\"\\tCongratulations you won:Rs\",score)\n",
    "                print(\"\\tPress any key to continue....\")\n",
    "                input()\n",
    "                print(\"\\n\\t5.Assembly of iphone is done in which country?\")\n",
    "                print(\"\\nA.US\\nB.Irak\\nC.Japan\\nD.Pakistan\")\n",
    "                choice=input(\"\\tEnter your choice: \")\n",
    "                if choice==\"A\":\n",
    "                    score=score+10000\n",
    "                    print(\"\\tCongratulations you won:Rs\",score)\n",
    "                    print(\"You Won The game.................\")\n",
    "                    print(\"Thank You for playing Game\")\n",
    "else:\n",
    "    print(\"Sorry Wrong attempt...\")\n",
    "    print(\"Your score is: \",score)\n",
    "    print(\"Thank You for playing Game\")\n",
    "                \n",
    "        \n"
   ]
  },
  {
   "cell_type": "code",
   "execution_count": null,
   "metadata": {},
   "outputs": [],
   "source": []
  },
  {
   "cell_type": "code",
   "execution_count": null,
   "metadata": {},
   "outputs": [],
   "source": []
  }
 ],
 "metadata": {
  "kernelspec": {
   "display_name": "Python 3",
   "language": "python",
   "name": "python3"
  },
  "language_info": {
   "codemirror_mode": {
    "name": "ipython",
    "version": 3
   },
   "file_extension": ".py",
   "mimetype": "text/x-python",
   "name": "python",
   "nbconvert_exporter": "python",
   "pygments_lexer": "ipython3",
   "version": "3.7.4"
  }
 },
 "nbformat": 4,
 "nbformat_minor": 2
}
