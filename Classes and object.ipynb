{
 "cells": [
  {
   "cell_type": "code",
   "execution_count": 1,
   "metadata": {},
   "outputs": [],
   "source": [
    "# Creating a class\n",
    "class Person:\n",
    "    age=25                       # Attribute of class person\n",
    "    name=\"default_name\"          # Attribute of class person\n",
    "    weight=76                    # Attribute of class person\n",
    "    "
   ]
  },
  {
   "cell_type": "code",
   "execution_count": 4,
   "metadata": {},
   "outputs": [
    {
     "name": "stdout",
     "output_type": "stream",
     "text": [
      "default_name\n",
      "25\n",
      "76\n",
      "default_name\n",
      "25\n",
      "default_name\n",
      "25\n",
      "76\n"
     ]
    }
   ],
   "source": [
    "# Now create object of person class\n",
    "yogesh=Person()\n",
    "priyanka=Person()\n",
    "sayali=Person()\n",
    "\n",
    "# Print object attribute values\n",
    "print(yogesh.name)\n",
    "print(yogesh.age)\n",
    "print(yogesh.weight)\n",
    "print(priyanka.name)\n",
    "print(priyanka.age)\n",
    "print(sayali.name)\n",
    "print(sayali.age)\n",
    "print(sayali.weight)\n"
   ]
  },
  {
   "cell_type": "markdown",
   "metadata": {},
   "source": [
    "#### Create class named circle with radius and color as attribute,getRadius and getArea as a methods"
   ]
  },
  {
   "cell_type": "code",
   "execution_count": 6,
   "metadata": {},
   "outputs": [
    {
     "name": "stdout",
     "output_type": "stream",
     "text": [
      "Radius is 3.5\n",
      "Colour of circle is red\n"
     ]
    }
   ],
   "source": [
    "class circle:                               # Class\n",
    "    # Constructor\n",
    "    def __init__(self,radius,colour):\n",
    "        self.radius=radius\n",
    "        self.colour=colour\n",
    "    def getRadius(self):\n",
    "        print(\"Radius is\",self.radius)\n",
    "    def getColour(this):\n",
    "        print(\"Colour of circle is\",this.colour)\n",
    "\n",
    "# Object Creation\n",
    "obj1=circle(3.5,\"red\")\n",
    "\n",
    "# Method calling with object\n",
    "obj1.getRadius()\n",
    "obj1.getColour()\n"
   ]
  },
  {
   "cell_type": "code",
   "execution_count": 1,
   "metadata": {},
   "outputs": [],
   "source": [
    "##### Create class Human with Appropriate properties and methods"
   ]
  },
  {
   "cell_type": "code",
   "execution_count": 11,
   "metadata": {},
   "outputs": [
    {
     "name": "stdout",
     "output_type": "stream",
     "text": [
      "init method is executed\n",
      "Play Tennis\n",
      "tom says how are you....\n",
      "init method is executed\n",
      "Movie Shoot\n",
      "Maria sharakova says how are you....\n"
     ]
    }
   ],
   "source": [
    "class Human:\n",
    "    def __init__(self,name,occupation):\n",
    "        print(\"init method is executed\")\n",
    "        self.name=name;\n",
    "        self.occupation=occupation;\n",
    "        \n",
    "    def do_work(self):\n",
    "        if self.occupation==\"actor\":\n",
    "            print(\"Movie Shoot\")\n",
    "        if self.occupation==\"tennis player\":\n",
    "            print(\"Play Tennis\")\n",
    "            \n",
    "    def speaks(self):\n",
    "        print(self.name+\" says how are you....\")\n",
    "        \n",
    "tom= Human(\"tom\",\"tennis player\")\n",
    "tom.do_work()\n",
    "tom.speaks()\n",
    "\n",
    "maria=Human(\"Maria sharakova\",\"actor\")\n",
    "maria.do_work()\n",
    "maria.speaks()\n"
   ]
  },
  {
   "cell_type": "code",
   "execution_count": 12,
   "metadata": {},
   "outputs": [
    {
     "name": "stdout",
     "output_type": "stream",
     "text": [
      "init method is executed\n",
      "Play Tennis\n",
      "init method is executed\n",
      "Maria sharakova says how are you....\n",
      "Play Tennis\n",
      "Football Player\n"
     ]
    }
   ],
   "source": [
    "class Human:\n",
    "    def __init__(self,name,occupation):\n",
    "        print(\"init method is executed\")\n",
    "        self.name=name;\n",
    "        self.occupation=occupation;\n",
    "        \n",
    "    def do_work(self):\n",
    "        if self.occupation==\"actor\":\n",
    "            print(\"Movie Shoot\")\n",
    "        elif self.occupation==\"tennis player\":\n",
    "            print(\"Play Tennis\")\n",
    "        else:\n",
    "            print(\"Football Player\")\n",
    "            \n",
    "    def speaks(self):\n",
    "        print(self.name+\" says how are you....\")\n",
    "        \n",
    "tom= Human(\"tom\",\"tennis player\")\n",
    "tom.do_work()\n",
    "\n",
    "maria=Human(\"Maria sharakova\",\"tennis player\")\n",
    "maria.speaks()\n",
    "maria.do_work()\n",
    "maria.occupation=\"Football Player\"\n",
    "maria.do_work()"
   ]
  },
  {
   "cell_type": "markdown",
   "metadata": {},
   "source": [
    "- Create Two classes bird and animal,create object of bird as sparrow and cat as object animal.Define speaks methods in boyh class and call it"
   ]
  },
  {
   "cell_type": "code",
   "execution_count": 27,
   "metadata": {},
   "outputs": [
    {
     "name": "stdout",
     "output_type": "stream",
     "text": [
      "sparrow says Chiv Chiv....\n",
      "catsays meow....meow...\n"
     ]
    }
   ],
   "source": [
    "class bird:\n",
    "    def speaks(x,name):\n",
    "        print(name,\"says Chiv Chiv....\")\n",
    "    \n",
    "class animal:\n",
    "    def __init__(x,n):\n",
    "        x.name=n\n",
    "    def speaks(x):\n",
    "        print(x.name+\"says meow....meow...\")\n",
    "        \n",
    "sparrow=bird()\n",
    "sparrow.speaks(\"sparrow\")\n",
    "\n",
    "cat=animal(\"cat\")\n",
    "cat.speaks()"
   ]
  },
  {
   "cell_type": "code",
   "execution_count": 3,
   "metadata": {},
   "outputs": [
    {
     "name": "stdout",
     "output_type": "stream",
     "text": [
      "sparrow says Chiv Chiv....\n",
      "catsays meow....meow...\n"
     ]
    }
   ],
   "source": [
    "class bird:\n",
    "    def speaks(x,name):\n",
    "        print(name,\"says Chiv Chiv....\")\n",
    "        \n",
    "    def swim(x):\n",
    "        pass\n",
    "    \n",
    "class animal:\n",
    "    def __init__(self,n):\n",
    "        self.name=n\n",
    "    def speaks(self):\n",
    "        print(self.name+\"says meow....meow...\")\n",
    "    def describe(self):\n",
    "        print(\"I am .....\",self.name)\n",
    "class insects:\n",
    "    pass\n",
    "        \n",
    "sparrow=bird()\n",
    "sparrow.speaks(\"sparrow\")\n",
    "sparrow.swim()\n",
    "\n",
    "cat=animal(\"cat\")\n",
    "cat.speaks()"
   ]
  },
  {
   "cell_type": "code",
   "execution_count": 4,
   "metadata": {},
   "outputs": [],
   "source": [
    "## How to delete objects\n",
    "del cat"
   ]
  },
  {
   "cell_type": "code",
   "execution_count": 5,
   "metadata": {},
   "outputs": [
    {
     "ename": "NameError",
     "evalue": "name 'cat' is not defined",
     "output_type": "error",
     "traceback": [
      "\u001b[1;31m---------------------------------------------------------------------------\u001b[0m",
      "\u001b[1;31mNameError\u001b[0m                                 Traceback (most recent call last)",
      "\u001b[1;32m<ipython-input-5-97071d10735a>\u001b[0m in \u001b[0;36m<module>\u001b[1;34m\u001b[0m\n\u001b[1;32m----> 1\u001b[1;33m \u001b[0mcat\u001b[0m\u001b[1;33m.\u001b[0m\u001b[0mspeak\u001b[0m\u001b[1;33m(\u001b[0m\u001b[1;33m)\u001b[0m\u001b[1;33m\u001b[0m\u001b[1;33m\u001b[0m\u001b[0m\n\u001b[0m",
      "\u001b[1;31mNameError\u001b[0m: name 'cat' is not defined"
     ]
    }
   ],
   "source": [
    "cat.speak()"
   ]
  },
  {
   "cell_type": "code",
   "execution_count": 8,
   "metadata": {},
   "outputs": [],
   "source": [
    "## Create another object\n",
    "snake=animal(\"snake\")"
   ]
  },
  {
   "cell_type": "code",
   "execution_count": 9,
   "metadata": {},
   "outputs": [
    {
     "name": "stdout",
     "output_type": "stream",
     "text": [
      "I am ..... snake\n"
     ]
    }
   ],
   "source": [
    "snake.describe()"
   ]
  },
  {
   "cell_type": "code",
   "execution_count": 9,
   "metadata": {},
   "outputs": [
    {
     "name": "stdout",
     "output_type": "stream",
     "text": [
      "Total Emploee: 2\n",
      "Name :  prema ,Salary: 20000\n",
      "Name :  sayli ,Salary: 30000\n"
     ]
    }
   ],
   "source": [
    "class Employee:\n",
    "    empCount=0\n",
    "    def __init__(self,name,salary):\n",
    "        self.name=name\n",
    "        self.salary=salary\n",
    "        Employee.empCount=Employee.empCount+1\n",
    "        \n",
    "    def displayCount(self):\n",
    "        print(\"Total Emploee:\",Employee.empCount)\n",
    "        \n",
    "    def displayEmployee(self):\n",
    "        print(\"Name : \",self.name,\",Salary:\",self.salary)\n",
    "        \n",
    "emp1=Employee(\"prema\",20000)\n",
    "emp2=Employee(\"sayli\",30000)\n",
    "\n",
    "emp1.displayCount()\n",
    "emp1.displayEmployee()\n",
    "emp2.displayEmployee()"
   ]
  },
  {
   "cell_type": "markdown",
   "metadata": {},
   "source": [
    "## Features of OOP\n",
    "\n",
    "###  What is inheritance?\n",
    "- Inheritance is a powerful feature in object oriented programming\n",
    "- It refers to defining a new class with little or no modification to an existing class\n",
    "- The new class is called derived(or child) class and the one from which it inherits is called the base os(parent) class.\n",
    "- Is a relation"
   ]
  },
  {
   "cell_type": "markdown",
   "metadata": {},
   "source": [
    "#### Benifits of Inheritance\n",
    "    1.Reusability of code\n",
    "    2.Extendibility\n",
    "    3.Readability"
   ]
  },
  {
   "cell_type": "code",
   "execution_count": 10,
   "metadata": {},
   "outputs": [
    {
     "name": "stdout",
     "output_type": "stream",
     "text": [
      "All vehicals are used for transportation...\n",
      "Travelling long distance,safe,trip eith family\n"
     ]
    }
   ],
   "source": [
    "# Single inheritance-\n",
    "class Vehical:\n",
    "    def general_usage(self):\n",
    "        print(\"All vehicals are used for transportation...\")\n",
    "class car(Vehical):\n",
    "    def specific_usage(self):\n",
    "        print(\"Travelling long distance,safe,trip eith family\")\n",
    "        \n",
    "honda=car()\n",
    "honda.general_usage()\n",
    "honda.specific_usage()\n",
    "    "
   ]
  },
  {
   "cell_type": "code",
   "execution_count": 11,
   "metadata": {},
   "outputs": [
    {
     "name": "stdout",
     "output_type": "stream",
     "text": [
      "All vehicals are used for transportation...\n",
      "Travelling long distance,safe,trip eith family\n",
      "\n",
      "All vehicals are used for transportation...\n",
      "Rasing......,short trip\n"
     ]
    }
   ],
   "source": [
    "# One to many inheritance\n",
    "class Vehical:\n",
    "    def general_usage(self):\n",
    "        print(\"All vehicals are used for transportation...\")\n",
    "class car(Vehical):\n",
    "    def specific_usage(self):\n",
    "        print(\"Travelling long distance,safe,trip eith family\")\n",
    "class MotorCycle(Vehical):\n",
    "    def specific_usage(self):\n",
    "        print(\"Rasing......,short trip\")\n",
    "        \n",
    "honda=car()\n",
    "honda.general_usage()\n",
    "honda.specific_usage()\n",
    "print()\n",
    "unicorn=MotorCycle()\n",
    "unicorn.general_usage()\n",
    "unicorn.specific_usage()"
   ]
  },
  {
   "cell_type": "code",
   "execution_count": 12,
   "metadata": {},
   "outputs": [
    {
     "name": "stdout",
     "output_type": "stream",
     "text": [
      "Parent class executed\n",
      "All vehicals are used for transportation...\n",
      "Travelling long distance,safe,trip eith family MH11AB007\n"
     ]
    }
   ],
   "source": [
    "# Access attribute of parent class into child class\n",
    "class Vehical:\n",
    "    def __init__(self):\n",
    "        self.vehical_no=\"MH11AB007\"\n",
    "        print(\"Parent class executed\")\n",
    "\n",
    "    def general_usage(self):\n",
    "        print(\"All vehicals are used for transportation...\")\n",
    "class car(Vehical):\n",
    "    def specific_usage(self):\n",
    "        print(\"Travelling long distance,safe,trip eith family\",self.vehical_no)\n",
    "\n",
    "        \n",
    "honda=car()\n",
    "honda.general_usage()\n",
    "honda.specific_usage()"
   ]
  },
  {
   "cell_type": "markdown",
   "metadata": {},
   "source": [
    "- If child class don't have init method and parent have init method,and we are creating object of child class.parent class init method is going to execute\n",
    "- If child and parent both have init methods.and we create object of child class in such case chid class method is going to execute"
   ]
  },
  {
   "cell_type": "code",
   "execution_count": 13,
   "metadata": {},
   "outputs": [
    {
     "name": "stdout",
     "output_type": "stream",
     "text": [
      "child class executed\n",
      "All vehicals are used for transportation...\n",
      "Travelling long distance,safe,trip eith family MH11AB045\n"
     ]
    }
   ],
   "source": [
    "class Vehical:\n",
    "    def __init__(self):\n",
    "        self.vehical_no=\"MH11AB007\"\n",
    "        print(\"Parent class executed\")\n",
    "\n",
    "    def general_usage(self):\n",
    "        print(\"All vehicals are used for transportation...\")\n",
    "class car(Vehical):\n",
    "    def __init__(self):\n",
    "        self.vehical_no=\"MH11AB045\"\n",
    "        print(\"child class executed\")\n",
    "    def specific_usage(self):\n",
    "        print(\"Travelling long distance,safe,trip eith family\",self.vehical_no)\n",
    "\n",
    "        \n",
    "honda=car()\n",
    "honda.general_usage()\n",
    "honda.specific_usage()"
   ]
  },
  {
   "cell_type": "code",
   "execution_count": 14,
   "metadata": {},
   "outputs": [
    {
     "name": "stdout",
     "output_type": "stream",
     "text": [
      "grandchild class executed\n",
      "This is not having roof 786\n",
      "Travelling long distance,safe,trip eith family 786\n",
      "All vehicals are used for transportation...\n"
     ]
    }
   ],
   "source": [
    "# Multilevel inheritace\n",
    "class Vehical:\n",
    "    def __init__(self):\n",
    "        self.vehical_no=\"MH11AB007\"\n",
    "        print(\"Parent class executed\")\n",
    "\n",
    "    def general_usage(self):\n",
    "        print(\"All vehicals are used for transportation...\")\n",
    "class car(Vehical):\n",
    "    def __init__(self):\n",
    "        self.vehical_no=\"MH11AB045\"\n",
    "        print(\"child class executed\")\n",
    "    def specific_usage(self):\n",
    "        print(\"Travelling long distance,safe,trip eith family\",self.vehical_no)\n",
    "class Convertible_Cars(car):\n",
    "    def __init__(self):\n",
    "        self.vehical_no=\"786\"\n",
    "        print(\"grandchild class executed\")\n",
    "    def new_look(self):\n",
    "        print(\"This is not having roof\",self.vehical_no)\n",
    "        \n",
    "cc=Convertible_Cars()\n",
    "cc.new_look()\n",
    "cc.specific_usage()\n",
    "cc.general_usage()"
   ]
  },
  {
   "cell_type": "markdown",
   "metadata": {},
   "source": [
    "- Grand parent property(Methods) is getting to grand child"
   ]
  },
  {
   "cell_type": "markdown",
   "metadata": {},
   "source": [
    "### isinstance() Method in issubclass() Method\n"
   ]
  },
  {
   "cell_type": "code",
   "execution_count": 15,
   "metadata": {},
   "outputs": [
    {
     "name": "stdout",
     "output_type": "stream",
     "text": [
      "True\n",
      "True\n",
      "True\n",
      "False\n"
     ]
    }
   ],
   "source": [
    "print(isinstance(cc,Convertible_Cars))\n",
    "print(isinstance(cc,car))\n",
    "print(isinstance(cc,Vehical))\n",
    "print(isinstance(honda,Convertible_Cars))"
   ]
  },
  {
   "cell_type": "code",
   "execution_count": 16,
   "metadata": {},
   "outputs": [
    {
     "ename": "NameError",
     "evalue": "name 'Vehicle' is not defined",
     "output_type": "error",
     "traceback": [
      "\u001b[1;31m---------------------------------------------------------------------------\u001b[0m",
      "\u001b[1;31mNameError\u001b[0m                                 Traceback (most recent call last)",
      "\u001b[1;32m<ipython-input-16-c450cccc4af9>\u001b[0m in \u001b[0;36m<module>\u001b[1;34m\u001b[0m\n\u001b[1;32m----> 1\u001b[1;33m \u001b[0mprint\u001b[0m\u001b[1;33m(\u001b[0m\u001b[0missubclass\u001b[0m\u001b[1;33m(\u001b[0m\u001b[0mcar\u001b[0m\u001b[1;33m,\u001b[0m\u001b[0mVehicle\u001b[0m\u001b[1;33m)\u001b[0m\u001b[1;33m)\u001b[0m\u001b[1;33m\u001b[0m\u001b[1;33m\u001b[0m\u001b[0m\n\u001b[0m\u001b[0;32m      2\u001b[0m \u001b[0mprint\u001b[0m\u001b[1;33m(\u001b[0m\u001b[0missubclass\u001b[0m\u001b[1;33m(\u001b[0m\u001b[0mConvertible_Cars\u001b[0m\u001b[1;33m,\u001b[0m\u001b[0mcar\u001b[0m\u001b[1;33m)\u001b[0m\u001b[1;33m)\u001b[0m\u001b[1;33m\u001b[0m\u001b[1;33m\u001b[0m\u001b[0m\n\u001b[0;32m      3\u001b[0m \u001b[0mprint\u001b[0m\u001b[1;33m(\u001b[0m\u001b[0missubclass\u001b[0m\u001b[1;33m(\u001b[0m\u001b[0mConvertible_Cars\u001b[0m\u001b[1;33m,\u001b[0m\u001b[0mVehical\u001b[0m\u001b[1;33m)\u001b[0m\u001b[1;33m)\u001b[0m\u001b[1;33m\u001b[0m\u001b[1;33m\u001b[0m\u001b[0m\n\u001b[0;32m      4\u001b[0m \u001b[1;32mclass\u001b[0m \u001b[0mdemo\u001b[0m\u001b[1;33m:\u001b[0m\u001b[1;33m\u001b[0m\u001b[1;33m\u001b[0m\u001b[0m\n\u001b[0;32m      5\u001b[0m     \u001b[1;32mpass\u001b[0m\u001b[1;33m\u001b[0m\u001b[1;33m\u001b[0m\u001b[0m\n",
      "\u001b[1;31mNameError\u001b[0m: name 'Vehicle' is not defined"
     ]
    }
   ],
   "source": [
    "print(issubclass(car,Vehicle))\n",
    "print(issubclass(Convertible_Cars,car))\n",
    "print(issubclass(Convertible_Cars,Vehical))\n",
    "class demo:\n",
    "    pass\n",
    "print(issubclass(demo,Vehicle))"
   ]
  },
  {
   "cell_type": "markdown",
   "metadata": {},
   "source": [
    "### Multiple Inhheritance-not supported in C++,supported in JAVA,C#,Python"
   ]
  },
  {
   "cell_type": "code",
   "execution_count": 17,
   "metadata": {},
   "outputs": [
    {
     "name": "stdout",
     "output_type": "stream",
     "text": [
      "I like sports\n",
      "I love Cooking\n",
      "I love Gardening\n"
     ]
    }
   ],
   "source": [
    "class neighbour:\n",
    "    def shouting(self):\n",
    "        print(\"I am always shouting\")\n",
    "class father:\n",
    "    def gardening(self):\n",
    "        print(\"I love Gardening\")\n",
    "class mother:\n",
    "    def cooking(self):\n",
    "        print(\"I love Cooking\")\n",
    "class son(father,mother):\n",
    "    def sports(self):\n",
    "        print(\"I like sports\")\n",
    "        \n",
    "yogesh=son()\n",
    "yogesh.sports()\n",
    "yogesh.cooking()\n",
    "yogesh.gardening()"
   ]
  },
  {
   "cell_type": "markdown",
   "metadata": {},
   "source": [
    "### Encapsulation"
   ]
  },
  {
   "cell_type": "markdown",
   "metadata": {},
   "source": [
    "- Method of wrapping data so that it is protected from outside acess\n",
    "- Class is best example of encapsulation i.e.calss wraps attributes and method\n",
    "- there are public,protected and private access specifiers in python\n",
    "- default access specifier for class,data member or method is public\n",
    "- single underscore is denoting member is protected and double underscore in front of any datamember is private "
   ]
  },
  {
   "cell_type": "code",
   "execution_count": 24,
   "metadata": {},
   "outputs": [
    {
     "name": "stdout",
     "output_type": "stream",
     "text": [
      "10\n",
      "23\n",
      "I love Gardening\n",
      "I like playing\n"
     ]
    }
   ],
   "source": [
    "class father:\n",
    "    num=10                         # Public datamember\n",
    "    _num1=23                    #Protected datamember\n",
    "    __no_of_trees=34        # Private Datamember\n",
    "    def gardening(self):            # Public method\n",
    "        print(\"I love Gardening\")\n",
    "        \n",
    "    def _playing(self):             # Protected method\n",
    "        print(\"I like playing\")\n",
    "        \n",
    "    def __programming(self):        # Private Method\n",
    "        print(\"I love programming\")\n",
    "\n",
    "f=father()\n",
    "print(f.num)\n",
    "print(f._num1)\n",
    "#print(f.__no_of_trees)\n",
    "f.gardening()\n",
    "f._playing()\n",
    "#f.__programming()"
   ]
  },
  {
   "cell_type": "markdown",
   "metadata": {},
   "source": [
    "## Polymorphism\n",
    "### Method overloading"
   ]
  },
  {
   "cell_type": "markdown",
   "metadata": {},
   "source": [
    "- Like other programming language,python does not support method overloading\n",
    "- But we can create n number of methods with same name and different parameters\n",
    "- latest method definations is executed in such cases,at the same time no of parameters while calling method and method defination should be same"
   ]
  },
  {
   "cell_type": "code",
   "execution_count": 29,
   "metadata": {},
   "outputs": [
    {
     "name": "stdout",
     "output_type": "stream",
     "text": [
      "10\n",
      "None\n"
     ]
    }
   ],
   "source": [
    "def product(a,b,c):\n",
    "    p=a*b*c\n",
    "    print(p)\n",
    "    \n",
    "def product(a,b):\n",
    "    p=a*b\n",
    "    print(p)\n",
    "    \n",
    "a=product(2,5)\n",
    "print(a)"
   ]
  },
  {
   "cell_type": "code",
   "execution_count": 30,
   "metadata": {},
   "outputs": [
    {
     "name": "stdout",
     "output_type": "stream",
     "text": [
      "60\n",
      "None\n"
     ]
    }
   ],
   "source": [
    "def product(a,b):\n",
    "    p=a*b\n",
    "    print(p)\n",
    "def product(a,b,c):\n",
    "    p=a*b*c\n",
    "    print(p)\n",
    "    \n",
    "a=product(2,5,6)\n",
    "print(a)"
   ]
  },
  {
   "cell_type": "markdown",
   "metadata": {},
   "source": [
    "## Method overriding"
   ]
  },
  {
   "cell_type": "markdown",
   "metadata": {},
   "source": [
    "- It is used in inheritance scenario\n",
    "- Base class method and child class method will have same method name but different behaviour implementation"
   ]
  },
  {
   "cell_type": "code",
   "execution_count": 37,
   "metadata": {},
   "outputs": [
    {
     "name": "stdout",
     "output_type": "stream",
     "text": [
      "16 is area of square\n",
      "8 is area of rectangle\n"
     ]
    }
   ],
   "source": [
    "class Rectangle:\n",
    "    def __init__(self,length,breadth):\n",
    "        self.length=length\n",
    "        self.breadth=breadth\n",
    "    def getArea(self):\n",
    "        print(self.length*self.breadth,\"is area of rectangle\")\n",
    "        \n",
    "class Square:\n",
    "    def __init__(self,side):\n",
    "        self.side=side\n",
    "    def getArea(self):\n",
    "        print(self.side*self.side,\"is area of square\")\n",
    "        \n",
    "s=Square(4)\n",
    "r=Rectangle(2,4)\n",
    "s.getArea()\n",
    "r.getArea()\n"
   ]
  },
  {
   "cell_type": "markdown",
   "metadata": {},
   "source": [
    "## Data abstraction"
   ]
  },
  {
   "cell_type": "markdown",
   "metadata": {},
   "source": [
    "- Data abstraction refers to providing only essential information about the data to the outside world,hiding the background details or implementation"
   ]
  },
  {
   "cell_type": "code",
   "execution_count": 38,
   "metadata": {},
   "outputs": [],
   "source": [
    "# Example -\n",
    "class Rectangle:\n",
    "    def __init__(self,length,breadth):\n",
    "        self.length=length\n",
    "        self.breadth=breadth\n",
    "    def getArea(self):\n",
    "        print(self.length*self.breadth,\"is area of rectangle\")"
   ]
  },
  {
   "cell_type": "markdown",
   "metadata": {},
   "source": [
    "- In this example implementation details of init is hidden from outside world to minimize the complexity\n",
    "- As a programmer we are implementing getArea so it is available to see,but it should not be visible to person who is going to use my application "
   ]
  },
  {
   "cell_type": "code",
   "execution_count": null,
   "metadata": {},
   "outputs": [],
   "source": []
  }
 ],
 "metadata": {
  "kernelspec": {
   "display_name": "Python 3",
   "language": "python",
   "name": "python3"
  },
  "language_info": {
   "codemirror_mode": {
    "name": "ipython",
    "version": 3
   },
   "file_extension": ".py",
   "mimetype": "text/x-python",
   "name": "python",
   "nbconvert_exporter": "python",
   "pygments_lexer": "ipython3",
   "version": "3.7.4"
  }
 },
 "nbformat": 4,
 "nbformat_minor": 2
}
