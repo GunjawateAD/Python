{
 "cells": [
  {
   "cell_type": "markdown",
   "metadata": {},
   "source": [
    "# Functions\n"
   ]
  },
  {
   "cell_type": "markdown",
   "metadata": {},
   "source": [
    "- What is function\n",
    "- Function is a set of statements written in specific order to complete specific task\n",
    "- def keyword is used to create a functionn\n",
    "- why to write code together it is going to be complex it will difficult to understand read and modify\n",
    "- function is basiccaly created \n",
    "- \n"
   ]
  },
  {
   "cell_type": "code",
   "execution_count": 5,
   "metadata": {},
   "outputs": [
    {
     "data": {
      "text/plain": [
       "'\\n# syntax for defining function is\\ndef function_name()\\nfunctio body\\nreturn statement # its optional\\n\\n# How to call function\\nfunction_name()\\n'"
      ]
     },
     "execution_count": 5,
     "metadata": {},
     "output_type": "execute_result"
    }
   ],
   "source": [
    "\"\"\"\n",
    "# syntax for defining function is\n",
    "def function_name()\n",
    "functio body\n",
    "return statement # its optional\n",
    "\n",
    "# How to call function\n",
    "function_name()\n",
    "\"\"\""
   ]
  },
  {
   "cell_type": "code",
   "execution_count": 6,
   "metadata": {},
   "outputs": [],
   "source": [
    "# defining function but does not call the function\n",
    "def printhello():\n",
    "    print(\"hello.....\")"
   ]
  },
  {
   "cell_type": "code",
   "execution_count": 9,
   "metadata": {},
   "outputs": [],
   "source": [
    "# defining function but calling it\n",
    "def printHello():      # defination\n",
    "    print(\"Hello....\")"
   ]
  },
  {
   "cell_type": "code",
   "execution_count": 11,
   "metadata": {},
   "outputs": [
    {
     "name": "stdout",
     "output_type": "stream",
     "text": [
      "Hello.... Amit Amol\n"
     ]
    }
   ],
   "source": [
    "# how to pass parameters to function\n",
    "def printHello(name,sname):\n",
    "    print(\"Hello....\",name,sname)\n",
    "printHello(\"Amit\",\"Amol\")"
   ]
  },
  {
   "cell_type": "code",
   "execution_count": 13,
   "metadata": {},
   "outputs": [
    {
     "name": "stdout",
     "output_type": "stream",
     "text": [
      "Enter first no...46\n",
      "Enter second no...55\n",
      "Adiition is= 101\n",
      "Subtraction is= -9\n",
      "Multiplication is= 2530\n",
      "Division is= 0.8363636363636363\n",
      "remainder is= 46\n",
      "exp is= 28293113545872442256069384612176496551505806910109586508247536632427864824399581601884798976 and floor div is= 0\n"
     ]
    }
   ],
   "source": [
    "# Write a program using function for arithmatic operations\n",
    "def add(n1,n2):                 # defining function for two parameters\n",
    "    n3=n1+n2\n",
    "    print(\"Adiition is=\",n3)\n",
    "    \n",
    "def sub(num1,num2):\n",
    "    return num1-num2\n",
    "\n",
    "def mul(a,b):\n",
    "    print(\"Multiplication is=\",a*b)\n",
    "\n",
    "def div(n1,n2):\n",
    "    n3=n1/n2\n",
    "    print(\"Division is=\",n3)\n",
    "    \n",
    "def mod(num1,num2):\n",
    "    return num1%num2\n",
    "\n",
    "def exp_fd(n1,n2):\n",
    "    n3=n1**n2\n",
    "    n4=n1//n2\n",
    "    return n3,n4\n",
    "\n",
    "num1=int(input(\"Enter first no...\"))\n",
    "num2=int(input(\"Enter second no...\"))\n",
    "\n",
    "add(num1,num2)\n",
    "\n",
    "sub1=sub(num1,num2)\n",
    "print(\"Subtraction is=\",sub1)\n",
    "\n",
    "mul(num1,num2)\n",
    "\n",
    "div(num1,num2)\n",
    "\n",
    "mod1=mod(num1,num2)\n",
    "print(\"remainder is=\",mod1)\n",
    "\n",
    "exp1,fd1=exp_fd(num1,num2)\n",
    "print(\"exp is=\",exp1,\"and floor div is=\",fd1)\n"
   ]
  },
  {
   "cell_type": "code",
   "execution_count": 18,
   "metadata": {},
   "outputs": [
    {
     "name": "stdout",
     "output_type": "stream",
     "text": [
      "Before swapping num1 and num2 is 23 49\n",
      "After swapping num1 and num2 is 49 23\n",
      "Before swapping num1 and num2 is 49 23\n",
      "After swapping num1 and num2 is 23 49\n"
     ]
    }
   ],
   "source": [
    "# Write a python program to swap 2 numbers with and without third variablw\n",
    "\n",
    "def swap_with_third_variable(num1,num2):\n",
    "    temp=num1\n",
    "    num1=num2\n",
    "    num2=temp\n",
    "    return num1,num2\n",
    "\n",
    "def swap_without_third_variable(num1,num2):\n",
    "    num1=num1+num2\n",
    "    num2=num1-num2\n",
    "    num1=num1-num2\n",
    "    return num1,num2\n",
    "\n",
    "num1=23\n",
    "num2=49\n",
    "print(\"Before swapping num1 and num2 is\",num1,num2)\n",
    "num1,num2=swap_with_third_variable(num1,num2)\n",
    "print(\"After swapping num1 and num2 is\",num1,num2)\n",
    "\n",
    "print(\"Before swapping num1 and num2 is\",num1,num2)\n",
    "num1,num2=swap_without_third_variable(num1,num2)\n",
    "print(\"After swapping num1 and num2 is\",num1,num2)\n"
   ]
  },
  {
   "cell_type": "code",
   "execution_count": 19,
   "metadata": {},
   "outputs": [
    {
     "name": "stdout",
     "output_type": "stream",
     "text": [
      "('sda', 'asddd', 'ascac', 'ssaaafs', 'sadf')\n"
     ]
    }
   ],
   "source": [
    "def my_function(*kids):\n",
    "    print(kids)\n",
    "my_function(\"sda\",\"asddd\",\"ascac\",\"ssaaafs\",\"sadf\")"
   ]
  },
  {
   "cell_type": "code",
   "execution_count": 21,
   "metadata": {},
   "outputs": [],
   "source": [
    "# In python documentation \n",
    "# arguments is refered -> args\n",
    "# arbitary Arguments-> *args\n",
    "# keyword arguments -> kwargs"
   ]
  },
  {
   "cell_type": "markdown",
   "metadata": {},
   "source": [
    "### Keyword Arguments\n",
    "\n"
   ]
  },
  {
   "cell_type": "code",
   "execution_count": 22,
   "metadata": {},
   "outputs": [
    {
     "name": "stdout",
     "output_type": "stream",
     "text": [
      "kavya kayra\n"
     ]
    }
   ],
   "source": [
    "def my_function(child1,child2):\n",
    "    print(child2,child1)\n",
    "my_function(child1=\"kayra\",child2=\"kavya\")"
   ]
  },
  {
   "cell_type": "code",
   "execution_count": 24,
   "metadata": {},
   "outputs": [
    {
     "name": "stdout",
     "output_type": "stream",
     "text": [
      "{'child1': 'kayra', 'child2': 'kavya'}\n",
      "{'child1': 'kayra'}\n",
      "{'child1': 'kayra', 'child2': 'kavya', 'child3': 'divya'}\n"
     ]
    }
   ],
   "source": [
    "# Arbitary keyword arguments\n",
    "def my_function(**child):\n",
    "    print(child)\n",
    "my_function(child1=\"kayra\",child2=\"kavya\")\n",
    "my_function(child1=\"kayra\")\n",
    "my_function(child1=\"kayra\",child2=\"kavya\",child3=\"divya\")"
   ]
  },
  {
   "cell_type": "code",
   "execution_count": 25,
   "metadata": {},
   "outputs": [],
   "source": [
    "# default parameters \n"
   ]
  },
  {
   "cell_type": "code",
   "execution_count": 26,
   "metadata": {},
   "outputs": [
    {
     "name": "stdout",
     "output_type": "stream",
     "text": [
      "I am from sweden\n",
      "I am from china\n",
      "I am from india\n",
      "I am from india\n"
     ]
    }
   ],
   "source": [
    "def my_country(country=\"india\"):\n",
    "    print(\"I am from\",country)\n",
    "my_country(\"sweden\")\n",
    "my_country(\"china\")\n",
    "my_country()\n",
    "my_country(\"india\")"
   ]
  },
  {
   "cell_type": "code",
   "execution_count": 28,
   "metadata": {},
   "outputs": [
    {
     "name": "stdout",
     "output_type": "stream",
     "text": [
      "['banana', 'mango']\n",
      "('banana', 'mango')\n",
      "{'banana', 'mango'}\n"
     ]
    }
   ],
   "source": [
    "# Passing list and any other object as parameter\n",
    "def my_function(food):\n",
    "    print(food)\n",
    "fruit_list=[\"banana\",\"mango\"]\n",
    "fruit_tuple=(\"banana\",\"mango\")\n",
    "fruit_set={\"banana\",\"mango\"}\n",
    "my_function(fruit_list)\n",
    "my_function(fruit_tuple)\n",
    "my_function(fruit_set)"
   ]
  },
  {
   "cell_type": "code",
   "execution_count": 30,
   "metadata": {},
   "outputs": [],
   "source": [
    "# pass keyword in function\n",
    "def lazy_fun():\n",
    "    pass\n",
    "lazy_fun()"
   ]
  },
  {
   "cell_type": "markdown",
   "metadata": {},
   "source": [
    "# Recursion"
   ]
  },
  {
   "cell_type": "code",
   "execution_count": 32,
   "metadata": {},
   "outputs": [
    {
     "name": "stdout",
     "output_type": "stream",
     "text": [
      "Enter number to find factorial3\n",
      "factorial of 3 is 6\n"
     ]
    }
   ],
   "source": [
    "# Write a python program usinf recursion to find factorial\n",
    "def cal_fact(n):\n",
    "    if n==1:\n",
    "        return 1\n",
    "    else:\n",
    "        return n*cal_fact(n-1)\n",
    "\n",
    "num=int(input(\"Enter number to find factorial\"))\n",
    "result=cal_fact(num)\n",
    "print(\"factorial of\",num,\"is\",result)"
   ]
  },
  {
   "cell_type": "markdown",
   "metadata": {},
   "source": [
    "## is python call by value or call by referance\n"
   ]
  },
  {
   "cell_type": "code",
   "execution_count": 33,
   "metadata": {},
   "outputs": [],
   "source": [
    "# python is call by object or call by object referance or call sharing\n",
    "# some time is python is working based on call by value\n",
    "# some time is python is working based on call by refrance"
   ]
  },
  {
   "cell_type": "code",
   "execution_count": 34,
   "metadata": {},
   "outputs": [],
   "source": [
    "# Call by value- integers ,tuples,strings,etc"
   ]
  },
  {
   "cell_type": "code",
   "execution_count": 37,
   "metadata": {},
   "outputs": [
    {
     "name": "stdout",
     "output_type": "stream",
     "text": [
      "5\n",
      "Address of num 8791477940624\n",
      "square is  25 address on n is 8791477941264\n"
     ]
    }
   ],
   "source": [
    "def cal_sq(n):\n",
    "    n=n*n\n",
    "    print(\"square is \",n,\"address on n is\",id(n))\n",
    "    \n",
    "num=5\n",
    "print(num)\n",
    "print(\"Address of num\",id(num))\n",
    "cal_sq(num)\n",
    "\n",
    "# as n and num is having different address space,it means\n",
    "# they are not sharing same memory so value is passed\n",
    "# it is call by value"
   ]
  },
  {
   "cell_type": "code",
   "execution_count": 3,
   "metadata": {},
   "outputs": [
    {
     "ename": "SyntaxError",
     "evalue": "invalid syntax (<ipython-input-3-01864a521e20>, line 11)",
     "output_type": "error",
     "traceback": [
      "\u001b[1;36m  File \u001b[1;32m\"<ipython-input-3-01864a521e20>\"\u001b[1;36m, line \u001b[1;32m11\u001b[0m\n\u001b[1;33m    list1_modify(list1)\u001b[0m\n\u001b[1;37m               ^\u001b[0m\n\u001b[1;31mSyntaxError\u001b[0m\u001b[1;31m:\u001b[0m invalid syntax\n"
     ]
    }
   ],
   "source": [
    "# call by reference\n",
    "\n",
    "def list_modify(l):\n",
    "    l.append(5)\n",
    "    print(l)\n",
    "    print(id(l))\n",
    "    \n",
    "list1=[1,2,3,4]\n",
    "print(id(list1))\n",
    "print(\"list1 before calling:\",list1,\"address is:\",id(list(1))\n",
    "list_modify(list1)\n",
    "print(\"list1 after cg:\",list1,\"address is:\",id(list(1))\n"
   ]
  },
  {
   "cell_type": "markdown",
   "metadata": {},
   "source": [
    "## Main Function"
   ]
  },
  {
   "cell_type": "code",
   "execution_count": 5,
   "metadata": {},
   "outputs": [
    {
     "name": "stdout",
     "output_type": "stream",
     "text": [
      "Enter Number to find square:5\n",
      "Square is:  25\n"
     ]
    }
   ],
   "source": [
    "# this is sample program to find square without using main function\n",
    "def cal_square(num):\n",
    "    return num*num\n",
    "n=int(input(\"Enter Number to find square:\"))\n",
    "square=cal_square(n)\n",
    "print(\"Square is: \",square)"
   ]
  },
  {
   "cell_type": "code",
   "execution_count": 12,
   "metadata": {},
   "outputs": [
    {
     "name": "stdout",
     "output_type": "stream",
     "text": [
      "Enter Number to find square:5\n",
      "Square is:  25\n"
     ]
    }
   ],
   "source": [
    "# this is sample program to find square using main function\n",
    "def cal_square(num):\n",
    "    return num*num\n",
    "\n",
    "def main():\n",
    "    n=int(input(\"Enter Number to find square:\"))\n",
    "    square=cal_square(n)\n",
    "    print(\"Square is: \",square)\n",
    "    \n",
    "if __name__==\"__main__\":\n",
    "    main()"
   ]
  },
  {
   "cell_type": "markdown",
   "metadata": {},
   "source": [
    "##### __name__ is global variable and if you want to execute your program from main function,the you have to set name==main"
   ]
  },
  {
   "cell_type": "markdown",
   "metadata": {},
   "source": [
    "###### Can we create main function?\n",
    "#yes"
   ]
  },
  {
   "cell_type": "code",
   "execution_count": 14,
   "metadata": {},
   "outputs": [
    {
     "name": "stdout",
     "output_type": "stream",
     "text": [
      "This statement is written in main\n"
     ]
    }
   ],
   "source": [
    "def main():\n",
    "    print(\"This statement is written in main\")\n",
    "main()"
   ]
  },
  {
   "cell_type": "markdown",
   "metadata": {},
   "source": [
    "### Write a program which will calculate net salary of employee using main function?"
   ]
  },
  {
   "cell_type": "code",
   "execution_count": 22,
   "metadata": {},
   "outputs": [
    {
     "name": "stdout",
     "output_type": "stream",
     "text": [
      "Enter the basic salary:15000\n",
      "Enter Dearness allowance:15000\n",
      "Enter House Rent Allowance:3000\n",
      "Enter Tax Deductions:1000\n",
      "Net Salary Of Employee is  32000.0\n"
     ]
    }
   ],
   "source": [
    "def cal_net_sal(bs,da,hra,tax):\n",
    "    gs=bs+da+hra\n",
    "    ns=gs-tax\n",
    "    return ns\n",
    "def main():\n",
    "    bs=float(input(\"Enter the basic salary:\"))\n",
    "    da=float(input(\"Enter Dearness allowance:\"))\n",
    "    hra=float(input(\"Enter House Rent Allowance:\"))\n",
    "    tax=float(input(\"Enter Tax Deductions:\"))\n",
    "    ns=cal_net_sal(bs,da,hra,tax)\n",
    "    print(\"Net Salary Of Employee is \",ns)\n",
    "    \n",
    "if __name__==\"__main__\":\n",
    "    main()\n",
    "        "
   ]
  },
  {
   "cell_type": "markdown",
   "metadata": {},
   "source": [
    "###### Sleep submodule from time module"
   ]
  },
  {
   "cell_type": "code",
   "execution_count": 23,
   "metadata": {},
   "outputs": [],
   "source": [
    "from time import sleep"
   ]
  },
  {
   "cell_type": "code",
   "execution_count": 27,
   "metadata": {},
   "outputs": [
    {
     "name": "stdout",
     "output_type": "stream",
     "text": [
      "Begin Data Processing......Please wait\n",
      "Data Processsed.....Thank You\n"
     ]
    }
   ],
   "source": [
    "def main():\n",
    "    print(\"Begin Data Processing......Please wait\")\n",
    "    sleep(2)                                         # These will pause execution for specific time\n",
    "    print(\"Data Processsed.....Thank You\")\n",
    "if __name__==\"__main__\":\n",
    "    main()"
   ]
  },
  {
   "cell_type": "markdown",
   "metadata": {},
   "source": [
    "##### Print 0 to 50 numbers with some pause"
   ]
  },
  {
   "cell_type": "code",
   "execution_count": 29,
   "metadata": {},
   "outputs": [
    {
     "name": "stdout",
     "output_type": "stream",
     "text": [
      "0 1 2 3 4 5 6 7 8 9 10 11 12 13 14 15 16 17 18 19 20 21 22 23 24 25 26 27 28 29 30 31 32 33 34 35 36 37 38 39 40 41 42 43 44 45 46 47 48 49 "
     ]
    }
   ],
   "source": [
    "def main():\n",
    "    for i in range(50):\n",
    "        sleep(0.10)\n",
    "        print(i,end=\" \")\n",
    "        \n",
    "if __name__==\"__main__\":\n",
    "    main()"
   ]
  },
  {
   "cell_type": "code",
   "execution_count": null,
   "metadata": {},
   "outputs": [],
   "source": []
  },
  {
   "cell_type": "code",
   "execution_count": null,
   "metadata": {},
   "outputs": [],
   "source": []
  },
  {
   "cell_type": "code",
   "execution_count": null,
   "metadata": {},
   "outputs": [],
   "source": []
  },
  {
   "cell_type": "code",
   "execution_count": null,
   "metadata": {},
   "outputs": [],
   "source": []
  }
 ],
 "metadata": {
  "kernelspec": {
   "display_name": "Python 3",
   "language": "python",
   "name": "python3"
  },
  "language_info": {
   "codemirror_mode": {
    "name": "ipython",
    "version": 3
   },
   "file_extension": ".py",
   "mimetype": "text/x-python",
   "name": "python",
   "nbconvert_exporter": "python",
   "pygments_lexer": "ipython3",
   "version": "3.7.4"
  }
 },
 "nbformat": 4,
 "nbformat_minor": 2
}
